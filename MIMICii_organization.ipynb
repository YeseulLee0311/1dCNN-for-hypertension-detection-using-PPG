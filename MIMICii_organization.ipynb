{
 "cells": [
  {
   "cell_type": "code",
   "execution_count": 1,
   "id": "d562099d",
   "metadata": {},
   "outputs": [],
   "source": [
    "import mat73\n",
    "data_dict1 = mat73.loadmat('/Users/yeseullee/Documents/ECE271B/data/data/Part_1.mat')\n",
    "data_dict2 = mat73.loadmat('/Users/yeseullee/Documents/ECE271B/data/data/Part_2.mat')\n",
    "data_dict3 = mat73.loadmat('/Users/yeseullee/Documents/ECE271B/data/data/Part_3.mat')\n",
    "data_dict4 = mat73.loadmat('/Users/yeseullee/Documents/ECE271B/data/data/Part_4.mat')\n"
   ]
  },
  {
   "cell_type": "code",
   "execution_count": 2,
   "id": "bbe1e8a5",
   "metadata": {
    "scrolled": false
   },
   "outputs": [
    {
     "name": "stdout",
     "output_type": "stream",
     "text": [
      "Part:  1\n",
      "1614_1\n",
      "Part:  2\n",
      "573_26\n",
      "Part:  3\n",
      "253_14\n"
     ]
    }
   ],
   "source": [
    "import numpy as np\n",
    "import os\n",
    "from scipy.signal import find_peaks\n",
    "import pandas as pd\n",
    "import matplotlib.pyplot\n",
    "\n",
    "dataset_path=['/Users/yeseullee/Documents/ECE271B/MIMICii/part1',\n",
    "'/Users/yeseullee/Documents/ECE271B/MIMICii/part2',\n",
    "'/Users/yeseullee/Documents/ECE271B/MIMICii/part3',\n",
    "'/Users/yeseullee/Documents/ECE271B/MIMICii/part4']\n",
    "data_dicts=[data_dict1['Part_1'],data_dict2['Part_2'],data_dict3['Part_3'],data_dict4['Part_4']]\n",
    "\n",
    "freq=125\n",
    "sec=5\n",
    "\n",
    "label_df=pd.DataFrame({'subject_id':[],'hypertension_level':[]})\n",
    "\n",
    "for part_num,data_dict in enumerate(data_dicts):\n",
    "    for sub_num,sub in enumerate(data_dict):\n",
    "        file_name1=str(sub_num+1)\n",
    "        \n",
    "        #sub[0]=>PPG\n",
    "        seg_cnt=0\n",
    "        for i in range(0,len(sub[0]),freq*sec):\n",
    "            if i+(freq*sec)>len(sub[0]): #remove last segment(due to length)\n",
    "                break\n",
    "            seg_cnt+=1\n",
    "            file_name2='_'+str(seg_cnt)\n",
    "            file_name=file_name1+file_name2\n",
    "            save_ppg=np.round(sub[0][i:i+(freq*sec)],4)\n",
    "\n",
    "            #peak detection on ABP to get Hypertension label\n",
    "            peak_idx, peak_val=find_peaks(sub[1][i:i+(freq*sec)],height=60)\n",
    "            if len(peak_idx)==0: #if there is no peak in ABP\n",
    "                print('Part: ',part_num+1)\n",
    "                print(file_name)\n",
    "                continue\n",
    "\n",
    "            if peak_val['peak_heights'].max()<=120:\n",
    "                label_df=label_df.append({'subject_id':file_name,'hypertension_level':'Normal'},ignore_index=True)\n",
    "            elif peak_val['peak_heights'].max()>120 and peak_val['peak_heights'].max()<=139:\n",
    "                label_df=label_df.append({'subject_id':file_name,'hypertension_level':'Prehypertension'},ignore_index=True)\n",
    "            elif peak_val['peak_heights'].max()>139:\n",
    "                label_df=label_df.append({'subject_id':file_name,'hypertension_level':'Hypertension'},ignore_index=True)\n",
    "\n",
    "            np.savetxt(os.path.join(dataset_path[part_num],file_name+'.txt'),save_ppg,newline='\\t')\n",
    "\n",
    "    label_df.to_csv(os.path.join(dataset_path[part_num],'label'+str(part_num+1)+'.csv'),sep=',',index=False)\n"
   ]
  }
 ],
 "metadata": {
  "kernelspec": {
   "display_name": "Python 3 (ipykernel)",
   "language": "python",
   "name": "python3"
  },
  "language_info": {
   "codemirror_mode": {
    "name": "ipython",
    "version": 3
   },
   "file_extension": ".py",
   "mimetype": "text/x-python",
   "name": "python",
   "nbconvert_exporter": "python",
   "pygments_lexer": "ipython3",
   "version": "3.7.16"
  }
 },
 "nbformat": 4,
 "nbformat_minor": 5
}
