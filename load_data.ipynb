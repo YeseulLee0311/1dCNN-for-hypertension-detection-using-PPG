{
  "nbformat": 4,
  "nbformat_minor": 0,
  "metadata": {
    "colab": {
      "provenance": []
    },
    "kernelspec": {
      "name": "python3",
      "display_name": "Python 3"
    },
    "language_info": {
      "name": "python"
    }
  },
  "cells": [
    {
      "cell_type": "markdown",
      "source": [
        "## Mount to Google Drive"
      ],
      "metadata": {
        "id": "cSeL66cZ76jF"
      }
    },
    {
      "cell_type": "code",
      "execution_count": 1,
      "metadata": {
        "id": "cv7tdGN2pNga",
        "colab": {
          "base_uri": "https://localhost:8080/"
        },
        "outputId": "85d069b0-332e-47a1-997f-d70473099923"
      },
      "outputs": [
        {
          "output_type": "stream",
          "name": "stdout",
          "text": [
            "Drive already mounted at /content/drive; to attempt to forcibly remount, call drive.mount(\"/content/drive\", force_remount=True).\n"
          ]
        }
      ],
      "source": [
        "from google.colab import drive\n",
        "drive.mount('/content/drive')"
      ]
    },
    {
      "cell_type": "markdown",
      "source": [
        "## Data Root"
      ],
      "metadata": {
        "id": "O_oAYVDh8GPI"
      }
    },
    {
      "cell_type": "code",
      "source": [
        "ppg_dir = '/content/drive/MyDrive/Data/5459299/Data_File/subject'\n",
        "label_path = '/content/drive/MyDrive/Data/5459299/Data_File/PPG-BP dataset.csv'"
      ],
      "metadata": {
        "id": "ltruXuNCrbvS"
      },
      "execution_count": 11,
      "outputs": []
    },
    {
      "cell_type": "markdown",
      "source": [
        "## Choose High Quality Data\n",
        "(From the dataset description, it says every subject has 3 segments of ppg signals, and we need to choose the segment with highest quality for each subject.)\n",
        "(But for now, we just choose all segments as long as the quality is positive, so we can have more data to train.)"
      ],
      "metadata": {
        "id": "ft-2is1YGx9v"
      }
    },
    {
      "cell_type": "code",
      "source": [
        "# organized data from https://www.nature.com/articles/sdata201820/tables/2\n",
        "\n",
        "quality_dict = dict()\n",
        "# key: subject number; value[0]: subject ID; value[1]:quality of segment 1; value[2]:quality of segment 2; value[3]:quality of segment 3\n",
        "quality_dict[1] = [2, 0.98, 0.96, 0.92]\n",
        "quality_dict[2] = [3, 0.69, 0.8, 0.81]\n",
        "quality_dict[3] = [6, 0.58, 0.59, 0.64]\n",
        "quality_dict[4] = [8, 0.96, 0.85, 0.87]\n",
        "quality_dict[5] = [9, 0.65, 0.67, 0.87]\n",
        "quality_dict[6] = [10, 0.59, 0.64, 0.34]\n",
        "quality_dict[7] = [11, 0.74, 0.67, -0.16]\n",
        "quality_dict[8] = [12, 0.23, 0.73, 0.41]\n",
        "quality_dict[9] = [13, 0.76, 0.84, 1.06]\n",
        "quality_dict[10] = [14, 0.77, 0.72, 0.15]\n",
        "\n",
        "quality_dict[11] = [15, 1.23, 0.77, 0.3]\n",
        "quality_dict[12] = [16, 0.64, 0.66, 0.83]\n",
        "quality_dict[13] = [17, 0.69, 0.9, 0.9]\n",
        "quality_dict[14] = [18, 0.87, 0.59, 1.05]\n",
        "quality_dict[15] = [19, 0.78, 0.19, 0.16]\n",
        "quality_dict[16] = [21, 0.65, 0.74, 0.75]\n",
        "quality_dict[17] = [22, 0.73, 0.44, 0.39]\n",
        "quality_dict[18] = [23, 0.7, 0.6, 0.74]\n",
        "quality_dict[19] = [24, 0.74, 0.74, 0.75]\n",
        "quality_dict[20] = [25, 1.38, 0.15, 0.78]\n",
        "\n",
        "quality_dict[21] = [26, 1.31, 0.47, 0.83]\n",
        "quality_dict[22] = [27, 1.86, 1.33, 1.26]\n",
        "quality_dict[23] = [29, 0.73, 0.6, -0.05]\n",
        "quality_dict[24] = [30, 0.86, 0.8, 0.76]\n",
        "quality_dict[25] = [31, 0.68, 0.81, 0.7]\n",
        "quality_dict[26] = [32, 1.06, 1.12, 1.23]\n",
        "quality_dict[27] = [34, 0.9, 0.79, 0.74]\n",
        "quality_dict[28] = [35, 0.94, 1.15, 1.18]\n",
        "quality_dict[29] = [38, 0.88, 0.66, 0.94]\n",
        "quality_dict[30] = [40, 0.21, 1.2, 0.9]\n",
        "\n",
        "quality_dict[31] = [41, 0.85, 0.78, 0.73]\n",
        "quality_dict[32] = [43, 0.52, 0.28, 0.53]\n",
        "quality_dict[33] = [45, 0.68, 0.76, 0.67]\n",
        "quality_dict[34] = [47, 0.76, 0.75, 0.73]\n",
        "quality_dict[35] = [48, 0.74, 0.79, 0.63]\n",
        "quality_dict[36] = [50, 0.79, 0.72, 0.73]\n",
        "quality_dict[37] = [51, 0.6, 0.2, 0.49]\n",
        "quality_dict[38] = [52, 0.95, 0.67, 0.93]\n",
        "quality_dict[39] = [53, 0.81, 0.91, 0.9]\n",
        "quality_dict[40] = [54, 1.12, 1.06, 1.11]\n",
        "\n",
        "quality_dict[41] = [55, 0.63, 0.99, 1.1]\n",
        "quality_dict[42] = [56, 0.26, 0.4, 0.47]\n",
        "quality_dict[43] = [57, 0.69, 0.59, 0.65]\n",
        "quality_dict[44] = [58, 0.97, 0.62, 0.75]\n",
        "quality_dict[45] = [60, 0.37, 1.64, 0.51]\n",
        "quality_dict[46] = [61, 0.87, 0.84, 0.93]\n",
        "quality_dict[47] = [62, 0.57, 0.96, 0.69]\n",
        "quality_dict[48] = [63, 1.01, 0.92, 0.92]\n",
        "quality_dict[49] = [64, 0.19, 0.65, 0.39]\n",
        "quality_dict[50] = [65, 0.78, 0.8, 0.72]\n",
        "\n",
        "quality_dict[51] = [66, 0.79, 0.79, 0.94]\n",
        "quality_dict[52] = [67, 0.7, 0.7, 0.99]\n",
        "quality_dict[53] = [83, 0.81, 0.9, 0.79]\n",
        "quality_dict[54] = [84, 0.91, 0.3, 0.65]\n",
        "quality_dict[55] = [85, 0.68, 0.79, 0.63]\n",
        "quality_dict[56] = [86, 0.66, 0.7, 0.72]\n",
        "quality_dict[57] = [87, 0.97, 0.96, 0.95]\n",
        "quality_dict[58] = [88, 0.81, 0.52, 0.65]\n",
        "quality_dict[59] = [89, 0.39, 0.58, 0.14]\n",
        "quality_dict[60] = [90, 0.87, 0.97, 1]\n",
        "\n",
        "quality_dict[61] = [91, 1.05, 0.77, 0.84]\n",
        "quality_dict[62] = [92, 0.9, 1.1, 1.15]\n",
        "quality_dict[63] = [93, 0.97, 0.99, 0.46]\n",
        "quality_dict[64] = [95, 1.31, 0.89, 0.87]\n",
        "quality_dict[65] = [96, 0.75, 0.89, 0.81]\n",
        "quality_dict[66] = [97, 0.56, 0.42, 0.76]\n",
        "quality_dict[67] = [98, 0.88, 0.98, 0.86]\n",
        "quality_dict[68] = [99, 0.88, 0.72, 0.79]\n",
        "quality_dict[69] = [100, 0.58, 0.66, 0.16]\n",
        "quality_dict[70] = [103, 0.37, 0.4, 0.44]\n",
        "\n",
        "quality_dict[71] = [104, 0.88, 0.23, 0.85]\n",
        "quality_dict[72] = [105, 0.54, 0.97, 0.8]\n",
        "quality_dict[73] = [106, 0.82, 0.9, 1.16]\n",
        "quality_dict[74] = [107, 0.89, 0.58, 0.66]\n",
        "quality_dict[75] = [108, 0.71, 0.69, 0.64]\n",
        "quality_dict[76] = [110, 0.9, 0.83, 0.88]\n",
        "quality_dict[77] = [111, 0.9, 0.85, 0.76]\n",
        "quality_dict[78] = [112, 0.61, 0.55, 0.57]\n",
        "quality_dict[79] = [113, 0.35, 0.51, 0.78]\n",
        "quality_dict[80] = [114, 0.5, 0.58, 0.67]\n",
        "\n",
        "quality_dict[81] = [115, 0.74, 0.06, 1.03]\n",
        "quality_dict[82] = [116, 0.78, 0.86, 0.93]\n",
        "quality_dict[83] = [119, 0.55, 0.59, -0.07]\n",
        "quality_dict[84] = [120, 0.79, 0.67, 0.77]\n",
        "quality_dict[85] = [122, 0.93, 0.87, 0.5]\n",
        "quality_dict[86] = [123, 0.89, 0.97, 1.3]\n",
        "quality_dict[87] = [124, 0.93, 1.23, 1.19]\n",
        "quality_dict[88] = [125, 0.84, -0.47, 0.86]\n",
        "quality_dict[89] = [126, 0.44, -0.01, 0.54]\n",
        "quality_dict[90] = [127, 0.53, 0.83, 0.75]\n",
        "\n",
        "quality_dict[91] = [128, 0.87, 0.86, 0.9]\n",
        "quality_dict[92] = [130, 0.91, 0.97, 1]\n",
        "quality_dict[93] = [131, 0.86, 0.85, 0.75]\n",
        "quality_dict[94] = [134, 0.71, 0.21, 0.86]\n",
        "quality_dict[95] = [135, 0.68, 0.72, 0.67]\n",
        "quality_dict[96] = [136, 1.73, 0.56, 0.8]\n",
        "quality_dict[97] = [137, 0.28, 0.58, 0.79]\n",
        "quality_dict[98] = [138, 0.74, 0.48, 0.59]\n",
        "quality_dict[99] = [139, 1.35, 0.69, 0.63]\n",
        "quality_dict[100] = [140, 0.41, 0.85, 0.71]\n",
        "\n",
        "quality_dict[101] = [141, 1.14, 0.96, 0.86]\n",
        "quality_dict[102] = [142, 0.8, 0.82, 0.83]\n",
        "quality_dict[103] = [144, 0.76, 0.66, -0.01]\n",
        "quality_dict[104] = [145, 1.11, 1.1, 1.1]\n",
        "quality_dict[105] = [146, 0.84, 0.84, 1]\n",
        "quality_dict[106] = [148, 1.03, 1.03, 1.06]\n",
        "quality_dict[107] = [149, 0.52, 0.58, 0.49]\n",
        "quality_dict[108] = [150, 0.75, 0.66, 0.49]\n",
        "quality_dict[109] = [151, 0.81, 0.29, 0.85]\n",
        "quality_dict[110] = [152, 1.05, 0.9, 1.22]\n",
        "\n",
        "quality_dict[111] = [153, 0.93, 1.15, 0.79]\n",
        "quality_dict[112] = [154, 0.82, 0.7, 0.75]\n",
        "quality_dict[113] = [155, 0.75, 0.94, 0.71]\n",
        "quality_dict[114] = [156, 0.75, 0.76, 0.7]\n",
        "quality_dict[115] = [157, 0.58, 0.68, 0.44]\n",
        "quality_dict[116] = [158, 0.66, 0.86, 0.05]\n",
        "quality_dict[117] = [160, 0.54, 0.66, 0.59]\n",
        "quality_dict[118] = [161, 0.89, 0.83, 0.86]\n",
        "quality_dict[119] = [162, 1.07, 1, 0.97]\n",
        "quality_dict[120] = [163, 0.79, 0.42, 0.61]\n",
        "\n",
        "quality_dict[121] = [164, 0.94, 0.85, 0.71]\n",
        "quality_dict[122] = [165, 1.07, 0.96, 1.02]\n",
        "quality_dict[123] = [166, 0.71, 0.93, 0.77]\n",
        "quality_dict[124] = [167, 0.57, 0.76, 0.57]\n",
        "quality_dict[125] = [169, 1.11, 0.82, 0.91]\n",
        "quality_dict[126] = [170, 0.77, 0.85, 0.95]\n",
        "quality_dict[127] = [171, 0.69, 0.46, 0.48]\n",
        "quality_dict[128] = [172, 0.45, 0.56, 0.53]\n",
        "quality_dict[129] = [173, 0.89, 0.84, 0.97]\n",
        "quality_dict[130] = [174, 1.14, 1.03, 1.17]\n",
        "\n",
        "quality_dict[131] = [175, 0.69, 0.62, 0.71]\n",
        "quality_dict[132] = [176, 0.75, 0.73, 0.68]\n",
        "quality_dict[133] = [178, 0.38, 0.68, 0.55]\n",
        "quality_dict[134] = [179, 2.34, 0.83, 0.78]\n",
        "quality_dict[135] = [180, 0.8, 0.64, 0.84]\n",
        "quality_dict[136] = [182, 0.72, 0.93, 0.9]\n",
        "quality_dict[137] = [183, 0.35, 0.25, 0.36]\n",
        "quality_dict[138] = [184, 0.49, 0.93, 0.87]\n",
        "quality_dict[139] = [185, 1.03, 1.1, 1.1]\n",
        "quality_dict[140] = [186, 0.73, 0.69, 0.99]\n",
        "\n",
        "quality_dict[141] = [188, 0.85, 1.78, 0.71]\n",
        "quality_dict[142] = [189, 0.9, 0.68, 0.92]\n",
        "quality_dict[143] = [190, 1.13, 0.8, 0.99]\n",
        "quality_dict[144] = [191, 1.23, 1.1, 0.85]\n",
        "quality_dict[145] = [192, 0.85, 0.87, 0.8]\n",
        "quality_dict[146] = [193, 0.76, 0.53, 0.63]\n",
        "quality_dict[147] = [195, 0.91, 1.1, 0.49]\n",
        "quality_dict[148] = [196, 0.88, 0.74, 0.68]\n",
        "quality_dict[149] = [197, 0.9, 1.06, 1.33]\n",
        "quality_dict[150] = [198, 1.12, 1.07, 1.02]\n",
        "\n",
        "quality_dict[151] = [199, 0.81, 0.96, 0.83]\n",
        "quality_dict[152] = [200, 0.3, 0.86, 1.02]\n",
        "quality_dict[153] = [201, 0.68, 0.69, 0.8]\n",
        "quality_dict[154] = [203, 0.92, 1.05, 0.86]\n",
        "quality_dict[155] = [205, 0.91, 0.82, 0.77]\n",
        "quality_dict[156] = [206, 0.69, 0.84, 0.67]\n",
        "quality_dict[157] = [207, 0.75, 0.7, 0.2]\n",
        "quality_dict[158] = [208, 1.47, 0.95, 0.92]\n",
        "quality_dict[159] = [209, 0.76, 0.67, 0.7]\n",
        "quality_dict[160] = [210, 0.72, 0.71, 0.78]\n",
        "\n",
        "quality_dict[161] = [211, 1.4, 0.73, 0.89]\n",
        "quality_dict[162] = [212, 0.74, 0.56, 0.59]\n",
        "quality_dict[163] = [213, 1.16, 0.91, 0.67]\n",
        "quality_dict[164] = [214, 0.46, 0.72, 0.24]\n",
        "quality_dict[165] = [215, 0.62, 0.69, 0.81]\n",
        "quality_dict[166] = [216, 0.33, 0.33, 0.37]\n",
        "quality_dict[167] = [217, 0.69, 1.26, 0.8]\n",
        "quality_dict[168] = [218, 0.82, 0.99, 0.89]\n",
        "quality_dict[169] = [219, 1.02, 1.05, 0.84]\n",
        "quality_dict[170] = [220, 0.63, 0.65, 0.66]\n",
        "\n",
        "quality_dict[171] = [221, 0.43, 0.78, 0.6]\n",
        "quality_dict[172] = [222, 0.92, 0.87, 0.85]\n",
        "quality_dict[173] = [223, 0.81, 0.08, 0.98]\n",
        "quality_dict[174] = [224, 0.85, 1.03, 0.75]\n",
        "quality_dict[175] = [226, 0.84, 1.04, 0.44]\n",
        "quality_dict[176] = [227, 0.99, 0.88, 0.94]\n",
        "quality_dict[177] = [228, 1.06, 1, 0.93]\n",
        "quality_dict[178] = [229, 1, 1.09, 0.98]\n",
        "quality_dict[179] = [230, 0.59, 0.72, 0.81]\n",
        "quality_dict[180] = [231, 1.28, 1.46, 0.98]\n",
        "\n",
        "quality_dict[181] = [232, 0.92, 1.21, 0.87]\n",
        "quality_dict[182] = [233, 0.89, 0.86, 0.67]\n",
        "quality_dict[183] = [234, 0.62, 0.81, 1.02]\n",
        "quality_dict[184] = [235, 0.94, 1.08, 0.97]\n",
        "quality_dict[185] = [237, 0.79, 1.19, 1.42]\n",
        "quality_dict[186] = [239, 0.81, 0.8, 0.7]\n",
        "quality_dict[187] = [240, 0.6, 1.09, 0.93]\n",
        "quality_dict[188] = [241, 0.68, 0.58, 0.52]\n",
        "quality_dict[189] = [242, 0.59, 0.7, 0.69]\n",
        "quality_dict[190] = [243, 1.09, 0.84, 0.91]\n",
        "\n",
        "quality_dict[191] = [244, 0.73, 0.79, 0.68]\n",
        "quality_dict[192] = [245, 0.56, 0.54, 7.13]\n",
        "quality_dict[193] = [246, 1.23, 1.85, 0.63]\n",
        "quality_dict[194] = [247, 0.8, 0.66, 0.54]\n",
        "quality_dict[195] = [248, 0.14, 0.65, 0.69]\n",
        "quality_dict[196] = [250, 0.79, 0.84, 0.77]\n",
        "quality_dict[197] = [251, 0.99, 0.95, 0.99]\n",
        "quality_dict[198] = [252, 0.78, 0.38, 10.22]\n",
        "quality_dict[199] = [253, 0.8, 0.89, 0.92]\n",
        "quality_dict[200] = [254, 0.51, 0.84, 0.75]\n",
        "\n",
        "quality_dict[201] = [256, 0.95, 0.72, 1.25]\n",
        "quality_dict[202] = [257, 0.63, 0.69, 0.87]\n",
        "quality_dict[203] = [259, 0.59, 0.62, 0.67]\n",
        "quality_dict[204] = [403, 0.92, 0.92, 0.92]\n",
        "quality_dict[205] = [404, 1.4, 1, 0.96]\n",
        "quality_dict[206] = [405, 0.72, 0.79, 0.96]\n",
        "quality_dict[207] = [406, 0.28, 0.45, 0.54]\n",
        "quality_dict[208] = [407, 0.84, 0.82, 0.76]\n",
        "quality_dict[209] = [409, 0.84, 1, 0.89]\n",
        "quality_dict[210] = [410, 0.94, 0.91, 0.9]\n",
        "\n",
        "quality_dict[211] = [411, 1.09, 0.92, 1.05]\n",
        "quality_dict[212] = [412, 0.95, 0.7, 0.99]\n",
        "quality_dict[213] = [413, 0.74, 0.67, 0.63]\n",
        "quality_dict[214] = [414, 0.93, 1.34, 1.4]\n",
        "quality_dict[215] = [415, 1.15, 1.38, 1.19]\n",
        "quality_dict[216] = [416, 0.96, 0.94, 1.01]\n",
        "quality_dict[217] = [417, 1.12, 1.32, 1.38]\n",
        "quality_dict[218] = [418, 0.96, 0.87, 1.06]\n",
        "quality_dict[219] = [419, 1.13, 1, 0.81]\n"
      ],
      "metadata": {
        "id": "Qm07sVE9Gvkq"
      },
      "execution_count": 3,
      "outputs": []
    },
    {
      "cell_type": "markdown",
      "source": [
        "## Select all segments with positive quality."
      ],
      "metadata": {
        "id": "yFK4osfcgtgM"
      }
    },
    {
      "cell_type": "code",
      "source": [
        "import numpy as np\n",
        "\n",
        "# most of data have three segments, only few of them have some negative quality segments\n",
        "# -> just throw away those segments\n",
        "not_choose = []\n",
        "for subject, segment in quality_dict.items():\n",
        "  for seg, quality in enumerate(quality_dict[subject]):\n",
        "    if quality < 0:\n",
        "      not_choose.append((subject, seg))\n",
        "\n",
        "print(not_choose)\n",
        "print(len(not_choose))"
      ],
      "metadata": {
        "colab": {
          "base_uri": "https://localhost:8080/"
        },
        "id": "eOXh-KtLgcWj",
        "outputId": "8e79ca15-f010-427f-921b-18c95bfb36f7"
      },
      "execution_count": 7,
      "outputs": [
        {
          "output_type": "stream",
          "name": "stdout",
          "text": [
            "[(7, 3), (23, 3), (83, 3), (88, 2), (89, 2), (103, 3)]\n",
            "6\n"
          ]
        }
      ]
    },
    {
      "cell_type": "markdown",
      "source": [
        "## Choose the highest quality segment\n",
        "(For now, we just select all segments with positive quality, so don't execute this block.)"
      ],
      "metadata": {
        "id": "kSiCYz4NgdRJ"
      }
    },
    {
      "cell_type": "code",
      "source": [
        "import numpy as np\n",
        "\n",
        "seg_choose = []\n",
        "for subject, segment in quality_dict.items():\n",
        "  seg_choose.append(np.argsort(quality_dict[subject], axis=0)[-2])\n",
        "print(seg_choose)\n",
        "print(len(seg_choose))"
      ],
      "metadata": {
        "colab": {
          "base_uri": "https://localhost:8080/"
        },
        "id": "uQlBrgviHNiw",
        "outputId": "db2090a6-be49-4488-99d4-df86ceeb0f67"
      },
      "execution_count": null,
      "outputs": [
        {
          "output_type": "stream",
          "name": "stdout",
          "text": [
            "[1, 3, 3, 1, 3, 2, 1, 2, 3, 1, 1, 3, 3, 3, 1, 3, 1, 3, 3, 1, 1, 1, 1, 1, 2, 3, 1, 3, 3, 2, 1, 3, 2, 1, 2, 1, 1, 1, 2, 1, 3, 3, 1, 1, 2, 3, 2, 1, 2, 2, 3, 3, 2, 1, 2, 3, 1, 1, 2, 3, 1, 3, 2, 1, 2, 3, 2, 1, 2, 3, 1, 2, 3, 1, 1, 1, 1, 1, 3, 3, 3, 3, 2, 1, 1, 3, 2, 3, 3, 2, 3, 3, 1, 3, 2, 1, 3, 1, 1, 2, 1, 3, 1, 1, 3, 3, 2, 1, 3, 3, 2, 1, 2, 2, 2, 2, 2, 1, 1, 1, 1, 1, 2, 2, 1, 3, 1, 2, 3, 3, 3, 1, 2, 1, 3, 2, 3, 2, 3, 3, 2, 3, 1, 1, 2, 1, 2, 1, 3, 1, 2, 3, 3, 2, 1, 2, 1, 1, 1, 3, 1, 1, 1, 2, 3, 3, 2, 2, 2, 3, 2, 1, 3, 2, 2, 1, 1, 2, 3, 2, 2, 1, 3, 2, 3, 1, 2, 1, 2, 1, 2, 3, 2, 1, 3, 2, 3, 3, 3, 2, 3, 3, 3, 3, 1, 3, 3, 1, 2, 1, 1, 3, 1, 3, 2, 3, 3, 3, 1]\n",
            "219\n"
          ]
        }
      ]
    },
    {
      "cell_type": "markdown",
      "source": [
        "## Set up PyTorch dataloader"
      ],
      "metadata": {
        "id": "_jd0EqNciCfj"
      }
    },
    {
      "cell_type": "code",
      "source": [
        "import torch.utils.data as data\n",
        "import os\n",
        "import torch\n",
        "import random\n",
        "import pandas as pd"
      ],
      "metadata": {
        "id": "_wdg6a0xiB0I"
      },
      "execution_count": 9,
      "outputs": []
    },
    {
      "cell_type": "code",
      "source": [
        "class BPDataset(data.Dataset):\n",
        "    \n",
        "    def __init__(self, ppg_dir, label_path):\n",
        "\n",
        "        self.ppg_dir = ppg_dir\n",
        "        self.label_path = label_path\n",
        "        self.data = []\n",
        "        self.label = []\n",
        "        self.subjectid = []\n",
        "        \n",
        "        # read ppg data\n",
        "        for subject in range(1, 220):\n",
        "          subjectid = quality_dict[subject][0]\n",
        "          for segnum in range(1, 4):\n",
        "            if (subject, segnum) not in [(7, 3), (23, 3), (83, 3), (88, 2), (89, 2), (103, 3), (180, 1), (180, 2), (180, 3)]:\n",
        "              ppg_path = os.path.join(ppg_dir, '{}_{}.txt'.format(subjectid, segnum))\n",
        "              if os.path.exists(ppg_path):\n",
        "                with open(ppg_path) as f:\n",
        "                  lines = f.readlines()[0].split('\\t')[:-1]\n",
        "                  if len(lines) != 2100:\n",
        "                    print(subject, subjectid, segment, len(lines))\n",
        "                    continue\n",
        "                  ppg = torch.Tensor([float(x) for x in lines])\n",
        "                  self.data.append(ppg)\n",
        "                  self.subjectid.append(subjectid)\n",
        "        \n",
        "        # read BP labels (Label: 'Stage 1 hypertension' -> 1; 'Stage 2 hypertension'-> 2; 'Prehypertension'-> 3; 'Normal'-> 0)\n",
        "        df = pd.read_csv(label_path, skiprows=1)\n",
        "        print(set(df[\"Hypertension\"]))\n",
        "        for subject in range(219):\n",
        "          if df['Hypertension'][subject] == 'Stage 1 hypertension':\n",
        "            bp_label = 1\n",
        "          elif df['Hypertension'][subject] == 'Stage 2 hypertension':\n",
        "            bp_label = 2\n",
        "          elif df['Hypertension'][subject] == 'Prehypertension':\n",
        "            bp_label = 3\n",
        "          elif df['Hypertension'][subject] == 'Normal':\n",
        "            bp_label = 0\n",
        "          \n",
        "          if subject+1 == 180:\n",
        "            continue\n",
        "          elif subject+1 in [7, 23, 83, 88, 89, 103]:\n",
        "            self.label.extend([bp_label]*2)\n",
        "          else:\n",
        "            self.label.extend([bp_label]*3)\n",
        "        \n",
        "        self.label = torch.Tensor(self.label)\n",
        "        \n",
        "    def __getitem__(self, index):\n",
        "        data = self.data[index]\n",
        "        label = self.label[index]\n",
        "        subjectid = self.subjectid[index]\n",
        "        return data, label, subjectid\n",
        "\n",
        "    def __len__(self):\n",
        "        return len(self.data)"
      ],
      "metadata": {
        "id": "oeOfF_OIiI1K"
      },
      "execution_count": 28,
      "outputs": []
    },
    {
      "cell_type": "markdown",
      "source": [
        "## Setup Data loader and Split training, validation, testing data"
      ],
      "metadata": {
        "id": "0B5l3xGFv1Wz"
      }
    },
    {
      "cell_type": "code",
      "source": [
        "import numpy as np\n",
        "import argparse\n",
        "import os\n",
        "import json\n",
        "import torch\n",
        "import torch.utils.data as data\n",
        "from torchvision import transforms\n",
        "from torch import nn"
      ],
      "metadata": {
        "id": "SiEMsSueoFa7"
      },
      "execution_count": 16,
      "outputs": []
    },
    {
      "cell_type": "code",
      "source": [
        "# setup data loader\n",
        "dataset = BPDataset(ppg_dir, label_path)\n",
        "train_loader = data.DataLoader(dataset, shuffle=True, drop_last=False, pin_memory=True, batch_size=32)  # we can choose proper batch size\n",
        "print('dataset: {}'.format(dataset.__len__()))\n",
        "\n",
        "# Split training data, validation data, testing data\n",
        "data_train, data_val, data_test = torch.utils.data.random_split(dataset, [0.6, 0.2, 0.2], generator=torch.Generator().manual_seed(42))\n",
        "print(data_train.__len__())\n",
        "print(data_val.__len__())\n",
        "print(data_test.__len__())"
      ],
      "metadata": {
        "colab": {
          "base_uri": "https://localhost:8080/"
        },
        "id": "WzxhYUKLo98h",
        "outputId": "fc93d2de-c78e-4413-ef27-ea2c385eac1c"
      },
      "execution_count": 45,
      "outputs": [
        {
          "output_type": "stream",
          "name": "stdout",
          "text": [
            "{'Stage 1 hypertension', 'Normal', 'Prehypertension', 'Stage 2 hypertension'}\n",
            "dataset: 648\n",
            "389\n",
            "130\n",
            "129\n"
          ]
        }
      ]
    }
  ]
}