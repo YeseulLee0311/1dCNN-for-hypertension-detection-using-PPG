{
  "cells": [
    {
      "cell_type": "markdown",
      "metadata": {
        "id": "MfhB8-nozfVY"
      },
      "source": [
        "## Mount to Drive"
      ],
      "id": "MfhB8-nozfVY"
    },
    {
      "cell_type": "code",
      "execution_count": null,
      "metadata": {
        "colab": {
          "base_uri": "https://localhost:8080/"
        },
        "id": "nbICMMTxzhrb",
        "outputId": "70b5f6cf-da20-4626-a67d-36e86cad1536"
      },
      "outputs": [
        {
          "output_type": "stream",
          "name": "stdout",
          "text": [
            "Drive already mounted at /content/drive; to attempt to forcibly remount, call drive.mount(\"/content/drive\", force_remount=True).\n"
          ]
        }
      ],
      "source": [
        "from google.colab import drive\n",
        "drive.mount('/content/drive')"
      ],
      "id": "nbICMMTxzhrb"
    },
    {
      "cell_type": "code",
      "execution_count": null,
      "metadata": {
        "id": "4ca51692"
      },
      "outputs": [],
      "source": [
        "import os\n",
        "import torch\n",
        "import torch.nn as nn\n",
        "import torchvision\n",
        "from google.colab import files\n",
        "\n",
        "from torchvision import transforms\n",
        "# files.upload()\n",
        "# from modules2 import train_model, test_model\n",
        "from torch import optim\n",
        "from torch.optim import lr_scheduler\n",
        "from datetime import datetime\n",
        "import pandas as pd\n",
        "# files.upload()\n",
        "# from backbone_models import ResNet18, VGG16\n",
        "import numpy as np\n",
        "import pandas as pd\n",
        "import matplotlib.pyplot as plt\n",
        "import torch.utils.data as data"
      ],
      "id": "4ca51692"
    },
    {
      "cell_type": "code",
      "execution_count": null,
      "metadata": {
        "id": "e57800d8"
      },
      "outputs": [],
      "source": [
        "ppg_dir = '/content/drive/MyDrive/Data/5459299/Data_File/subject'\n",
        "label_path = '/content/drive/MyDrive/Data/5459299/Data_File/PPG-BP dataset.csv'"
      ],
      "id": "e57800d8"
    },
    {
      "cell_type": "markdown",
      "source": [
        "## Choose High Quality Data\n",
        "(From the dataset description, it says every subject has 3 segments of ppg signals, and we need to choose the segment with highest quality for each subject.)\n",
        "(But for now, we just choose all segments as long as the quality is positive, so we can have more data to train.)"
      ],
      "metadata": {
        "id": "w6-rwODsEzQ-"
      },
      "id": "w6-rwODsEzQ-"
    },
    {
      "cell_type": "code",
      "source": [
        "# organized data from https://www.nature.com/articles/sdata201820/tables/2\n",
        "\n",
        "quality_dict = dict()\n",
        "# key: subject number; value[0]: subject ID; value[1]:quality of segment 1; value[2]:quality of segment 2; value[3]:quality of segment 3\n",
        "quality_dict[1] = [2, 0.98, 0.96, 0.92]\n",
        "quality_dict[2] = [3, 0.69, 0.8, 0.81]\n",
        "quality_dict[3] = [6, 0.58, 0.59, 0.64]\n",
        "quality_dict[4] = [8, 0.96, 0.85, 0.87]\n",
        "quality_dict[5] = [9, 0.65, 0.67, 0.87]\n",
        "quality_dict[6] = [10, 0.59, 0.64, 0.34]\n",
        "quality_dict[7] = [11, 0.74, 0.67, -0.16]\n",
        "quality_dict[8] = [12, 0.23, 0.73, 0.41]\n",
        "quality_dict[9] = [13, 0.76, 0.84, 1.06]\n",
        "quality_dict[10] = [14, 0.77, 0.72, 0.15]\n",
        "\n",
        "quality_dict[11] = [15, 1.23, 0.77, 0.3]\n",
        "quality_dict[12] = [16, 0.64, 0.66, 0.83]\n",
        "quality_dict[13] = [17, 0.69, 0.9, 0.9]\n",
        "quality_dict[14] = [18, 0.87, 0.59, 1.05]\n",
        "quality_dict[15] = [19, 0.78, 0.19, 0.16]\n",
        "quality_dict[16] = [21, 0.65, 0.74, 0.75]\n",
        "quality_dict[17] = [22, 0.73, 0.44, 0.39]\n",
        "quality_dict[18] = [23, 0.7, 0.6, 0.74]\n",
        "quality_dict[19] = [24, 0.74, 0.74, 0.75]\n",
        "quality_dict[20] = [25, 1.38, 0.15, 0.78]\n",
        "\n",
        "quality_dict[21] = [26, 1.31, 0.47, 0.83]\n",
        "quality_dict[22] = [27, 1.86, 1.33, 1.26]\n",
        "quality_dict[23] = [29, 0.73, 0.6, -0.05]\n",
        "quality_dict[24] = [30, 0.86, 0.8, 0.76]\n",
        "quality_dict[25] = [31, 0.68, 0.81, 0.7]\n",
        "quality_dict[26] = [32, 1.06, 1.12, 1.23]\n",
        "quality_dict[27] = [34, 0.9, 0.79, 0.74]\n",
        "quality_dict[28] = [35, 0.94, 1.15, 1.18]\n",
        "quality_dict[29] = [38, 0.88, 0.66, 0.94]\n",
        "quality_dict[30] = [40, 0.21, 1.2, 0.9]\n",
        "\n",
        "quality_dict[31] = [41, 0.85, 0.78, 0.73]\n",
        "quality_dict[32] = [43, 0.52, 0.28, 0.53]\n",
        "quality_dict[33] = [45, 0.68, 0.76, 0.67]\n",
        "quality_dict[34] = [47, 0.76, 0.75, 0.73]\n",
        "quality_dict[35] = [48, 0.74, 0.79, 0.63]\n",
        "quality_dict[36] = [50, 0.79, 0.72, 0.73]\n",
        "quality_dict[37] = [51, 0.6, 0.2, 0.49]\n",
        "quality_dict[38] = [52, 0.95, 0.67, 0.93]\n",
        "quality_dict[39] = [53, 0.81, 0.91, 0.9]\n",
        "quality_dict[40] = [54, 1.12, 1.06, 1.11]\n",
        "\n",
        "quality_dict[41] = [55, 0.63, 0.99, 1.1]\n",
        "quality_dict[42] = [56, 0.26, 0.4, 0.47]\n",
        "quality_dict[43] = [57, 0.69, 0.59, 0.65]\n",
        "quality_dict[44] = [58, 0.97, 0.62, 0.75]\n",
        "quality_dict[45] = [60, 0.37, 1.64, 0.51]\n",
        "quality_dict[46] = [61, 0.87, 0.84, 0.93]\n",
        "quality_dict[47] = [62, 0.57, 0.96, 0.69]\n",
        "quality_dict[48] = [63, 1.01, 0.92, 0.92]\n",
        "quality_dict[49] = [64, 0.19, 0.65, 0.39]\n",
        "quality_dict[50] = [65, 0.78, 0.8, 0.72]\n",
        "\n",
        "quality_dict[51] = [66, 0.79, 0.79, 0.94]\n",
        "quality_dict[52] = [67, 0.7, 0.7, 0.99]\n",
        "quality_dict[53] = [83, 0.81, 0.9, 0.79]\n",
        "quality_dict[54] = [84, 0.91, 0.3, 0.65]\n",
        "quality_dict[55] = [85, 0.68, 0.79, 0.63]\n",
        "quality_dict[56] = [86, 0.66, 0.7, 0.72]\n",
        "quality_dict[57] = [87, 0.97, 0.96, 0.95]\n",
        "quality_dict[58] = [88, 0.81, 0.52, 0.65]\n",
        "quality_dict[59] = [89, 0.39, 0.58, 0.14]\n",
        "quality_dict[60] = [90, 0.87, 0.97, 1]\n",
        "\n",
        "quality_dict[61] = [91, 1.05, 0.77, 0.84]\n",
        "quality_dict[62] = [92, 0.9, 1.1, 1.15]\n",
        "quality_dict[63] = [93, 0.97, 0.99, 0.46]\n",
        "quality_dict[64] = [95, 1.31, 0.89, 0.87]\n",
        "quality_dict[65] = [96, 0.75, 0.89, 0.81]\n",
        "quality_dict[66] = [97, 0.56, 0.42, 0.76]\n",
        "quality_dict[67] = [98, 0.88, 0.98, 0.86]\n",
        "quality_dict[68] = [99, 0.88, 0.72, 0.79]\n",
        "quality_dict[69] = [100, 0.58, 0.66, 0.16]\n",
        "quality_dict[70] = [103, 0.37, 0.4, 0.44]\n",
        "\n",
        "quality_dict[71] = [104, 0.88, 0.23, 0.85]\n",
        "quality_dict[72] = [105, 0.54, 0.97, 0.8]\n",
        "quality_dict[73] = [106, 0.82, 0.9, 1.16]\n",
        "quality_dict[74] = [107, 0.89, 0.58, 0.66]\n",
        "quality_dict[75] = [108, 0.71, 0.69, 0.64]\n",
        "quality_dict[76] = [110, 0.9, 0.83, 0.88]\n",
        "quality_dict[77] = [111, 0.9, 0.85, 0.76]\n",
        "quality_dict[78] = [112, 0.61, 0.55, 0.57]\n",
        "quality_dict[79] = [113, 0.35, 0.51, 0.78]\n",
        "quality_dict[80] = [114, 0.5, 0.58, 0.67]\n",
        "\n",
        "quality_dict[81] = [115, 0.74, 0.06, 1.03]\n",
        "quality_dict[82] = [116, 0.78, 0.86, 0.93]\n",
        "quality_dict[83] = [119, 0.55, 0.59, -0.07]\n",
        "quality_dict[84] = [120, 0.79, 0.67, 0.77]\n",
        "quality_dict[85] = [122, 0.93, 0.87, 0.5]\n",
        "quality_dict[86] = [123, 0.89, 0.97, 1.3]\n",
        "quality_dict[87] = [124, 0.93, 1.23, 1.19]\n",
        "quality_dict[88] = [125, 0.84, -0.47, 0.86]\n",
        "quality_dict[89] = [126, 0.44, -0.01, 0.54]\n",
        "quality_dict[90] = [127, 0.53, 0.83, 0.75]\n",
        "\n",
        "quality_dict[91] = [128, 0.87, 0.86, 0.9]\n",
        "quality_dict[92] = [130, 0.91, 0.97, 1]\n",
        "quality_dict[93] = [131, 0.86, 0.85, 0.75]\n",
        "quality_dict[94] = [134, 0.71, 0.21, 0.86]\n",
        "quality_dict[95] = [135, 0.68, 0.72, 0.67]\n",
        "quality_dict[96] = [136, 1.73, 0.56, 0.8]\n",
        "quality_dict[97] = [137, 0.28, 0.58, 0.79]\n",
        "quality_dict[98] = [138, 0.74, 0.48, 0.59]\n",
        "quality_dict[99] = [139, 1.35, 0.69, 0.63]\n",
        "quality_dict[100] = [140, 0.41, 0.85, 0.71]\n",
        "\n",
        "quality_dict[101] = [141, 1.14, 0.96, 0.86]\n",
        "quality_dict[102] = [142, 0.8, 0.82, 0.83]\n",
        "quality_dict[103] = [144, 0.76, 0.66, -0.01]\n",
        "quality_dict[104] = [145, 1.11, 1.1, 1.1]\n",
        "quality_dict[105] = [146, 0.84, 0.84, 1]\n",
        "quality_dict[106] = [148, 1.03, 1.03, 1.06]\n",
        "quality_dict[107] = [149, 0.52, 0.58, 0.49]\n",
        "quality_dict[108] = [150, 0.75, 0.66, 0.49]\n",
        "quality_dict[109] = [151, 0.81, 0.29, 0.85]\n",
        "quality_dict[110] = [152, 1.05, 0.9, 1.22]\n",
        "\n",
        "quality_dict[111] = [153, 0.93, 1.15, 0.79]\n",
        "quality_dict[112] = [154, 0.82, 0.7, 0.75]\n",
        "quality_dict[113] = [155, 0.75, 0.94, 0.71]\n",
        "quality_dict[114] = [156, 0.75, 0.76, 0.7]\n",
        "quality_dict[115] = [157, 0.58, 0.68, 0.44]\n",
        "quality_dict[116] = [158, 0.66, 0.86, 0.05]\n",
        "quality_dict[117] = [160, 0.54, 0.66, 0.59]\n",
        "quality_dict[118] = [161, 0.89, 0.83, 0.86]\n",
        "quality_dict[119] = [162, 1.07, 1, 0.97]\n",
        "quality_dict[120] = [163, 0.79, 0.42, 0.61]\n",
        "\n",
        "quality_dict[121] = [164, 0.94, 0.85, 0.71]\n",
        "quality_dict[122] = [165, 1.07, 0.96, 1.02]\n",
        "quality_dict[123] = [166, 0.71, 0.93, 0.77]\n",
        "quality_dict[124] = [167, 0.57, 0.76, 0.57]\n",
        "quality_dict[125] = [169, 1.11, 0.82, 0.91]\n",
        "quality_dict[126] = [170, 0.77, 0.85, 0.95]\n",
        "quality_dict[127] = [171, 0.69, 0.46, 0.48]\n",
        "quality_dict[128] = [172, 0.45, 0.56, 0.53]\n",
        "quality_dict[129] = [173, 0.89, 0.84, 0.97]\n",
        "quality_dict[130] = [174, 1.14, 1.03, 1.17]\n",
        "\n",
        "quality_dict[131] = [175, 0.69, 0.62, 0.71]\n",
        "quality_dict[132] = [176, 0.75, 0.73, 0.68]\n",
        "quality_dict[133] = [178, 0.38, 0.68, 0.55]\n",
        "quality_dict[134] = [179, 2.34, 0.83, 0.78]\n",
        "quality_dict[135] = [180, 0.8, 0.64, 0.84]\n",
        "quality_dict[136] = [182, 0.72, 0.93, 0.9]\n",
        "quality_dict[137] = [183, 0.35, 0.25, 0.36]\n",
        "quality_dict[138] = [184, 0.49, 0.93, 0.87]\n",
        "quality_dict[139] = [185, 1.03, 1.1, 1.1]\n",
        "quality_dict[140] = [186, 0.73, 0.69, 0.99]\n",
        "\n",
        "quality_dict[141] = [188, 0.85, 1.78, 0.71]\n",
        "quality_dict[142] = [189, 0.9, 0.68, 0.92]\n",
        "quality_dict[143] = [190, 1.13, 0.8, 0.99]\n",
        "quality_dict[144] = [191, 1.23, 1.1, 0.85]\n",
        "quality_dict[145] = [192, 0.85, 0.87, 0.8]\n",
        "quality_dict[146] = [193, 0.76, 0.53, 0.63]\n",
        "quality_dict[147] = [195, 0.91, 1.1, 0.49]\n",
        "quality_dict[148] = [196, 0.88, 0.74, 0.68]\n",
        "quality_dict[149] = [197, 0.9, 1.06, 1.33]\n",
        "quality_dict[150] = [198, 1.12, 1.07, 1.02]\n",
        "\n",
        "quality_dict[151] = [199, 0.81, 0.96, 0.83]\n",
        "quality_dict[152] = [200, 0.3, 0.86, 1.02]\n",
        "quality_dict[153] = [201, 0.68, 0.69, 0.8]\n",
        "quality_dict[154] = [203, 0.92, 1.05, 0.86]\n",
        "quality_dict[155] = [205, 0.91, 0.82, 0.77]\n",
        "quality_dict[156] = [206, 0.69, 0.84, 0.67]\n",
        "quality_dict[157] = [207, 0.75, 0.7, 0.2]\n",
        "quality_dict[158] = [208, 1.47, 0.95, 0.92]\n",
        "quality_dict[159] = [209, 0.76, 0.67, 0.7]\n",
        "quality_dict[160] = [210, 0.72, 0.71, 0.78]\n",
        "\n",
        "quality_dict[161] = [211, 1.4, 0.73, 0.89]\n",
        "quality_dict[162] = [212, 0.74, 0.56, 0.59]\n",
        "quality_dict[163] = [213, 1.16, 0.91, 0.67]\n",
        "quality_dict[164] = [214, 0.46, 0.72, 0.24]\n",
        "quality_dict[165] = [215, 0.62, 0.69, 0.81]\n",
        "quality_dict[166] = [216, 0.33, 0.33, 0.37]\n",
        "quality_dict[167] = [217, 0.69, 1.26, 0.8]\n",
        "quality_dict[168] = [218, 0.82, 0.99, 0.89]\n",
        "quality_dict[169] = [219, 1.02, 1.05, 0.84]\n",
        "quality_dict[170] = [220, 0.63, 0.65, 0.66]\n",
        "\n",
        "quality_dict[171] = [221, 0.43, 0.78, 0.6]\n",
        "quality_dict[172] = [222, 0.92, 0.87, 0.85]\n",
        "quality_dict[173] = [223, 0.81, 0.08, 0.98]\n",
        "quality_dict[174] = [224, 0.85, 1.03, 0.75]\n",
        "quality_dict[175] = [226, 0.84, 1.04, 0.44]\n",
        "quality_dict[176] = [227, 0.99, 0.88, 0.94]\n",
        "quality_dict[177] = [228, 1.06, 1, 0.93]\n",
        "quality_dict[178] = [229, 1, 1.09, 0.98]\n",
        "quality_dict[179] = [230, 0.59, 0.72, 0.81]\n",
        "quality_dict[180] = [231, 1.28, 1.46, 0.98]\n",
        "\n",
        "quality_dict[181] = [232, 0.92, 1.21, 0.87]\n",
        "quality_dict[182] = [233, 0.89, 0.86, 0.67]\n",
        "quality_dict[183] = [234, 0.62, 0.81, 1.02]\n",
        "quality_dict[184] = [235, 0.94, 1.08, 0.97]\n",
        "quality_dict[185] = [237, 0.79, 1.19, 1.42]\n",
        "quality_dict[186] = [239, 0.81, 0.8, 0.7]\n",
        "quality_dict[187] = [240, 0.6, 1.09, 0.93]\n",
        "quality_dict[188] = [241, 0.68, 0.58, 0.52]\n",
        "quality_dict[189] = [242, 0.59, 0.7, 0.69]\n",
        "quality_dict[190] = [243, 1.09, 0.84, 0.91]\n",
        "\n",
        "quality_dict[191] = [244, 0.73, 0.79, 0.68]\n",
        "quality_dict[192] = [245, 0.56, 0.54, 7.13]\n",
        "quality_dict[193] = [246, 1.23, 1.85, 0.63]\n",
        "quality_dict[194] = [247, 0.8, 0.66, 0.54]\n",
        "quality_dict[195] = [248, 0.14, 0.65, 0.69]\n",
        "quality_dict[196] = [250, 0.79, 0.84, 0.77]\n",
        "quality_dict[197] = [251, 0.99, 0.95, 0.99]\n",
        "quality_dict[198] = [252, 0.78, 0.38, 10.22]\n",
        "quality_dict[199] = [253, 0.8, 0.89, 0.92]\n",
        "quality_dict[200] = [254, 0.51, 0.84, 0.75]\n",
        "\n",
        "quality_dict[201] = [256, 0.95, 0.72, 1.25]\n",
        "quality_dict[202] = [257, 0.63, 0.69, 0.87]\n",
        "quality_dict[203] = [259, 0.59, 0.62, 0.67]\n",
        "quality_dict[204] = [403, 0.92, 0.92, 0.92]\n",
        "quality_dict[205] = [404, 1.4, 1, 0.96]\n",
        "quality_dict[206] = [405, 0.72, 0.79, 0.96]\n",
        "quality_dict[207] = [406, 0.28, 0.45, 0.54]\n",
        "quality_dict[208] = [407, 0.84, 0.82, 0.76]\n",
        "quality_dict[209] = [409, 0.84, 1, 0.89]\n",
        "quality_dict[210] = [410, 0.94, 0.91, 0.9]\n",
        "\n",
        "quality_dict[211] = [411, 1.09, 0.92, 1.05]\n",
        "quality_dict[212] = [412, 0.95, 0.7, 0.99]\n",
        "quality_dict[213] = [413, 0.74, 0.67, 0.63]\n",
        "quality_dict[214] = [414, 0.93, 1.34, 1.4]\n",
        "quality_dict[215] = [415, 1.15, 1.38, 1.19]\n",
        "quality_dict[216] = [416, 0.96, 0.94, 1.01]\n",
        "quality_dict[217] = [417, 1.12, 1.32, 1.38]\n",
        "quality_dict[218] = [418, 0.96, 0.87, 1.06]\n",
        "quality_dict[219] = [419, 1.13, 1, 0.81]\n"
      ],
      "metadata": {
        "id": "b1vf3Riexko-"
      },
      "id": "b1vf3Riexko-",
      "execution_count": null,
      "outputs": []
    },
    {
      "cell_type": "markdown",
      "source": [
        "## Select all segments with positive quality."
      ],
      "metadata": {
        "id": "JJ1lmTLUE7Wj"
      },
      "id": "JJ1lmTLUE7Wj"
    },
    {
      "cell_type": "code",
      "source": [
        "# most of data have three segments, only few of them have some negative quality segments\n",
        "# -> just throw away those segments\n",
        "not_choose = []\n",
        "for subject, segment in quality_dict.items():\n",
        "  for seg, quality in enumerate(quality_dict[subject]):\n",
        "    if quality < 0:\n",
        "      not_choose.append((subject, seg))\n",
        "\n",
        "print(not_choose)\n",
        "print(len(not_choose))"
      ],
      "metadata": {
        "id": "NE8mjNfWzl94",
        "colab": {
          "base_uri": "https://localhost:8080/"
        },
        "outputId": "f096ce0d-1020-484a-e4e8-d52f2745e085"
      },
      "id": "NE8mjNfWzl94",
      "execution_count": null,
      "outputs": [
        {
          "output_type": "stream",
          "name": "stdout",
          "text": [
            "[(7, 3), (23, 3), (83, 3), (88, 2), (89, 2), (103, 3)]\n",
            "6\n"
          ]
        }
      ]
    },
    {
      "cell_type": "markdown",
      "source": [
        "## Setup Dataset"
      ],
      "metadata": {
        "id": "P_udZMLyFAV_"
      },
      "id": "P_udZMLyFAV_"
    },
    {
      "cell_type": "code",
      "source": [
        "class BPDataset(data.Dataset):\n",
        "    \n",
        "    def __init__(self, ppg_dir, label_path, normalize, choose_class=[0,1,2]):\n",
        "\n",
        "        self.ppg_dir = ppg_dir\n",
        "        self.label_path = label_path\n",
        "        self.data = []\n",
        "        self.label = []\n",
        "        self.subjectid = []\n",
        "        self.normalize=normalize\n",
        "        \n",
        "        # read BP labels (Label: 'Stage 1 hypertension' or 'Stage 2 hypertension'-> 2; 'Prehypertension'-> 1; 'Normal'-> 0)\n",
        "        df = pd.read_csv(label_path, skiprows=1)\n",
        "        #print(set(df[\"Hypertension\"]))\n",
        "        # choose class\n",
        "        class_id = [[] for i in range(3)]\n",
        "        for subject in range(219):\n",
        "          if df['Hypertension'][subject] == 'Stage 1 hypertension' or df['Hypertension'][subject] == 'Stage 2 hypertension':\n",
        "            class_id[2].append(subject+1)\n",
        "          elif df['Hypertension'][subject] == 'Prehypertension':\n",
        "            class_id[1].append(subject+1)\n",
        "          elif df['Hypertension'][subject] == 'Normal':\n",
        "            class_id[0].append(subject+1)\n",
        "\n",
        "        for c in choose_class:\n",
        "          # c=0,1,2\n",
        "          for subject in class_id[c]:\n",
        "            subjectid = quality_dict[subject][0]\n",
        "            if subject == 180:\n",
        "              continue\n",
        "            elif subject in [7, 23, 83, 88, 89, 103]:\n",
        "              self.label.extend([c]*2)\n",
        "            else:\n",
        "              self.label.extend([c]*3)\n",
        "            # read ppg data\n",
        "            for segnum in range(1, 4):\n",
        "              if (subject, segnum) not in [(7, 3), (23, 3), (83, 3), (88, 2), (89, 2), (103, 3), (180, 1), (180, 2), (180, 3)]:\n",
        "                ppg_path = os.path.join(ppg_dir, '{}_{}.txt'.format(subjectid, segnum))\n",
        "                if os.path.exists(ppg_path):\n",
        "                  with open(ppg_path) as f:\n",
        "                    lines = f.readlines()[0].split('\\t')[:-1]\n",
        "                    if len(lines) != 2100:\n",
        "                      print(subject, subjectid, segment, len(lines))\n",
        "                      continue\n",
        "                    ppg = torch.Tensor([float(x) for x in lines])\n",
        "                    ppg = ppg.reshape((1,2100))\n",
        "                    self.data.append(ppg)\n",
        "                    self.subjectid.append(subjectid)\n",
        "        self.label = torch.Tensor(self.label)\n",
        "        self.label = self.label.type(torch.long)\n",
        "        \n",
        "    def __getitem__(self, index):\n",
        "        data = self.data[index]\n",
        "        data = (data-self.normalize['mean'])/self.normalize['std'] #normalization\n",
        "        label = self.label[index]\n",
        "        subjectid = self.subjectid[index]\n",
        "        return data, label, subjectid\n",
        "\n",
        "    def __len__(self):\n",
        "        return len(self.data)"
      ],
      "metadata": {
        "id": "FUt2tVAuxJd-"
      },
      "id": "FUt2tVAuxJd-",
      "execution_count": null,
      "outputs": []
    },
    {
      "cell_type": "markdown",
      "source": [
        "## 2-Class classification (Sigmoid)\n",
        "\\[\"Normal\", \"Prehypertension\"]: choose_class=\\[0,1]  \n",
        "\n",
        "\\[\"Normal\", \"hypertension\"]: choose_class=\\[0,2]"
      ],
      "metadata": {
        "id": "fRa58ojnoAGR"
      },
      "id": "fRa58ojnoAGR"
    },
    {
      "cell_type": "markdown",
      "source": [
        "## Utils (Define lr_decay, calculate accuracy, sensitivity, specificity)"
      ],
      "metadata": {
        "id": "DeN4q5MiFxvK"
      },
      "id": "DeN4q5MiFxvK"
    },
    {
      "cell_type": "code",
      "source": [
        "def lr_decay(optimizer, decay_rate=.9):\n",
        "    for param_group in optimizer.param_groups:\n",
        "        param_group['lr'] = param_group['lr'] * decay_rate\n",
        "\n",
        "class averageMeter(object):\n",
        "    \"\"\"Computes and stores the average and current value\"\"\"\n",
        "\n",
        "    def __init__(self):\n",
        "        self.reset()\n",
        "\n",
        "    def reset(self):\n",
        "        self.val = 0\n",
        "        self.avg = 0\n",
        "        self.sum = 0\n",
        "        self.count = 0\n",
        "\n",
        "    def update(self, val, n=1):\n",
        "        self.val = val\n",
        "        self.sum += val * n\n",
        "        self.count += n\n",
        "        self.avg = self.sum / self.count\n",
        "\n",
        "def accuracy(output, target, topk=(1,)):\n",
        "    \"\"\"Computes the precision@k for the specified values of k\"\"\"\n",
        "    maxk = max(topk)\n",
        "    batch_size = target.size(0)\n",
        "\n",
        "    _, pred = output.topk(maxk, 1, True, True)\n",
        "    pred = pred.t()\n",
        "    correct = pred.eq(target.view(1, -1).expand_as(pred))\n",
        "\n",
        "    res = []\n",
        "    for k in topk:\n",
        "        correct_k = correct[:k].view(-1).float().sum(0, keepdim=True)\n",
        "        res.append(correct_k.mul_(1.0 / batch_size))\n",
        "    return res"
      ],
      "metadata": {
        "id": "eMkEVZmfrn-N"
      },
      "id": "eMkEVZmfrn-N",
      "execution_count": null,
      "outputs": []
    },
    {
      "cell_type": "markdown",
      "source": [
        "## Define train, validation functions"
      ],
      "metadata": {
        "id": "K3GjOt9KGYvv"
      },
      "id": "K3GjOt9KGYvv"
    },
    {
      "cell_type": "code",
      "source": [
        "def train(data_loader, model, optimizer, epoch, criterion, binary=False):\n",
        "\n",
        "    losses = averageMeter()\n",
        "    ACC = averageMeter()\n",
        "\n",
        "    # setup training mode\n",
        "    model.train()\n",
        "\n",
        "    for (step, value) in enumerate(data_loader):\n",
        "\n",
        "        data = value[0].cuda()\n",
        "        target = value[1].cuda(non_blocking=True)\n",
        "\n",
        "        # forward\n",
        "        output = model(data).squeeze()\n",
        "\n",
        "        # compute loss\n",
        "        if not binary:\n",
        "            loss = criterion(output, target)\n",
        "        else:\n",
        "            loss = criterion(output, target.float())\n",
        "        losses.update(loss.item(), data.size(0))\n",
        "\n",
        "        # compute acc\n",
        "        if not binary:\n",
        "            pred = torch.max(output, dim=1)[1].data.cpu().numpy()\n",
        "            acc = accuracy(output, target, topk=(1,))[0]\n",
        "        else:\n",
        "            pred = torch.gt(output, 0.5).long()\n",
        "            acc = (target == pred).float().mean()\n",
        "        ACC.update(acc.item(), data.size(0))\n",
        "\n",
        "        # compute confusion matrix\n",
        "        # confmat = ConfusionMatrix(task=\"multiclass\", num_classes=2)\n",
        "        # conf = confmat(pred, target)\n",
        "\n",
        "        # backward\n",
        "        optimizer.zero_grad()\n",
        "        loss.backward()\n",
        "        optimizer.step()\n",
        "\n",
        "    # logging\n",
        "    curr_lr = optimizer.param_groups[0]['lr']\n",
        "    print('Epoch: [{}/{}]\\t' \\\n",
        "        'LR: [{:.6g}]\\t' \\\n",
        "        'Loss {loss.avg:.4f}\\t' \\\n",
        "        'Acc {acc.avg:.3f}'.format(\n",
        "            epoch + 1, n_epoch, curr_lr, loss=losses, acc=ACC\n",
        "        )\n",
        "    )\n",
        "\n",
        "    # save last model\n",
        "    state = {\n",
        "        'epoch': epoch + 1,\n",
        "        'acc': acc,\n",
        "        'model_state': model.state_dict(),\n",
        "        'opt_state': optimizer.state_dict()\n",
        "    }\n",
        "    checkpoint = os.path.join('/content/drive/MyDrive/Data/5459299', 'last_checkpoint.pkl')\n",
        "    torch.save(state, checkpoint)\n",
        "    print('[Checkpoint] {} is saved.'.format(checkpoint))\n",
        "    print('Training is done.')\n",
        "\n",
        "    return ACC.avg, losses.avg\n",
        "\n",
        "\n",
        "def val(data_loader, model, criterion, binary=False):\n",
        "\n",
        "    losses = averageMeter()\n",
        "    ACC = averageMeter()\n",
        "\n",
        "    # setup evaluation mode\n",
        "    model.eval()\n",
        "\n",
        "    for (step, value) in enumerate(data_loader):\n",
        "\n",
        "        data = value[0].cuda()\n",
        "        target = value[1].cuda(non_blocking=True)\n",
        "\n",
        "        # forward\n",
        "        output = model(data).squeeze()\n",
        "\n",
        "        # compute acc\n",
        "        if not binary:\n",
        "            pred = torch.max(output, dim=1)[1].data.cpu().numpy()\n",
        "            acc = accuracy(output, target, topk=(1,))[0]\n",
        "        else:\n",
        "            pred = torch.gt(output, 0.5).long()\n",
        "            acc = (target == pred).float().mean()    \n",
        "        ACC.update(acc.item(), data.size(0))\n",
        "\n",
        "        # compute loss\n",
        "        if not binary:\n",
        "            loss = criterion(output, target)\n",
        "        else:\n",
        "            loss = criterion(output, target.float())\n",
        "        losses.update(loss.item(), data.size(0))\n",
        "\n",
        "    # logging\n",
        "    curr_lr = optimizer.param_groups[0]['lr']\n",
        "    print('[Val]' \\\n",
        "        'Loss {loss.avg:.4f}\\t' \\\n",
        "        'Acc {acc.avg:.3f}'.format(\n",
        "            loss=losses, acc=ACC\n",
        "        )\n",
        "    )\n",
        "    return ACC.avg, losses.avg"
      ],
      "metadata": {
        "id": "yYT3dsWirhVG"
      },
      "id": "yYT3dsWirhVG",
      "execution_count": null,
      "outputs": []
    },
    {
      "cell_type": "markdown",
      "source": [
        "## Model: Our Conv3Net (3-layer convolution neural network) & CNN_LSTM model from https://ieeexplore.ieee.org/stamp/stamp.jsp?tp=&arnumber=9787648"
      ],
      "metadata": {
        "id": "791Rv7kMGctE"
      },
      "id": "791Rv7kMGctE"
    },
    {
      "cell_type": "code",
      "source": [
        "class Conv3Net(nn.Module):\n",
        "    def __init__(self, n_class=2):\n",
        "        super(Conv3Net, self).__init__()\n",
        "        self.n_class = n_class\n",
        "        self.feature_extractor = nn.Sequential(\n",
        "            nn.Conv1d(1, 64, kernel_size=30, stride=3, padding=2),\n",
        "            nn.BatchNorm1d(64),\n",
        "            nn.ReLU(),\n",
        "            nn.Conv1d(64, 64, kernel_size=15, stride=3, padding=2),\n",
        "            nn.ReLU(),\n",
        "            nn.MaxPool1d(kernel_size=7),\n",
        "            nn.Conv1d(64, 128, kernel_size=5, padding=2),\n",
        "            nn.ReLU(),\n",
        "            nn.MaxPool1d(kernel_size=7)\n",
        "        )\n",
        "        self.classifier = nn.Sequential(\n",
        "            nn.Linear(512, 64),\n",
        "            nn.ReLU(),\n",
        "            nn.Linear(64, 2)\n",
        "        )\n",
        "\n",
        "    def forward(self, x):\n",
        "        x = self.feature_extractor(x)\n",
        "        x = x.view(x.size(0), -1)\n",
        "        return self.classifier(x)"
      ],
      "metadata": {
        "id": "IzfsIrvr5QQs"
      },
      "id": "IzfsIrvr5QQs",
      "execution_count": null,
      "outputs": []
    },
    {
      "cell_type": "code",
      "source": [
        "class CNN_LSTM(nn.Module):\n",
        "    def __init__(self, n_class=2):\n",
        "        super(CNN_LSTM, self).__init__()\n",
        "        self.n_class = n_class\n",
        "        self.lstm1 = nn.LSTM(input_size=1, hidden_size=32, batch_first=True)\n",
        "        self.conv1 = nn.Conv1d(1, 8, 16, stride=3, padding=1)\n",
        "        self.bn1 = nn.BatchNorm1d(8)\n",
        "        self.lstm2 = nn.LSTM(input_size=7, hidden_size=16, batch_first=True)\n",
        "        self.conv2 = nn.Conv1d(1, 32, 6)\n",
        "        self.mp = nn.MaxPool1d(2)\n",
        "        self.bn2 = nn.BatchNorm1d(32)\n",
        "        self.lstm3 = nn.LSTM(input_size=5, hidden_size=8, batch_first=True)\n",
        "        self.dropout = nn.Dropout()\n",
        "        self.classifier = nn.Sequential(\n",
        "            nn.Linear(8, 8),\n",
        "            nn.ReLU(),\n",
        "            nn.Linear(8, 2)\n",
        "        )\n",
        "\n",
        "    def forward(self, x):\n",
        "        x = x.transpose(2, 1)\n",
        "        x, _ = self.lstm1(x)\n",
        "        x = self.conv1(x[:, -1, :].unsqueeze(1))\n",
        "        x = self.bn1(x)\n",
        "        x, _ = self.lstm2(x)\n",
        "        x = self.conv2(x[:, -1, :].unsqueeze(1))\n",
        "        x = self.bn2(self.mp(x))\n",
        "        x, _ = self.lstm3(x)\n",
        "        x = self.dropout(x[:, -1, :])\n",
        "        x = self.classifier(x)\n",
        "        return x"
      ],
      "metadata": {
        "id": "N8BSTIkp7OFz"
      },
      "id": "N8BSTIkp7OFz",
      "execution_count": null,
      "outputs": []
    },
    {
      "cell_type": "markdown",
      "source": [
        "### Our Results: \\[\"Normal\", \"Prehypertension\"]"
      ],
      "metadata": {
        "id": "fqL4vZUPoYgR"
      },
      "id": "fqL4vZUPoYgR"
    },
    {
      "cell_type": "code",
      "execution_count": null,
      "metadata": {
        "colab": {
          "base_uri": "https://localhost:8080/"
        },
        "id": "dd377c1a",
        "outputId": "63f70f4c-ac58-4c3d-db80-1a2e275275e6"
      },
      "outputs": [
        {
          "output_type": "stream",
          "name": "stdout",
          "text": [
            "dataset: 487\n",
            "312\n",
            "78\n",
            "97\n"
          ]
        }
      ],
      "source": [
        "data_mean=2060.61\n",
        "data_std=285.13\n",
        "data_normalization = {'mean':data_mean,'std':data_std}\n",
        "\n",
        "# setup data loader\n",
        "dataset = BPDataset(ppg_dir, label_path, normalize=data_normalization, choose_class=[0,1])\n",
        "print('dataset: {}'.format(dataset.__len__()))\n",
        "\n",
        "# Split training data, validation data, testing data\n",
        "# [0,1] -> [312, 78, 97]\n",
        "# [0,2] -> [255, 64, 80]\n",
        "# [0,1,2]-> [415, 104, 129]\n",
        "data_train, data_val, data_test = torch.utils.data.random_split(dataset, [312, 78, 97])\n",
        "print(data_train.__len__())\n",
        "print(data_val.__len__())\n",
        "print(data_test.__len__())"
      ],
      "id": "dd377c1a"
    },
    {
      "cell_type": "code",
      "execution_count": null,
      "metadata": {
        "colab": {
          "base_uri": "https://localhost:8080/"
        },
        "id": "61d28385",
        "outputId": "c48ca7ee-4469-44df-f22c-18ecf90bcfef"
      },
      "outputs": [
        {
          "output_type": "stream",
          "name": "stdout",
          "text": [
            "Device: cuda\n"
          ]
        }
      ],
      "source": [
        "dataloaders={'train': torch.utils.data.DataLoader(data_train,batch_size=10,shuffle=True),\n",
        "                'val':torch.utils.data.DataLoader(data_val,batch_size=10,shuffle=True),\n",
        "                'test':torch.utils.data.DataLoader(data_test,batch_size=10,shuffle=False)}\n",
        "dataset_sizes = {'train': data_train.__len__(),\n",
        "                    'val':data_val.__len__(),\n",
        "                    'test':data_test.__len__()}\n",
        "\n",
        "device = torch.device(\"cuda\" if torch.cuda.is_available() else \"cpu\")\n",
        "print('Device:',device)"
      ],
      "id": "61d28385"
    },
    {
      "cell_type": "code",
      "execution_count": null,
      "metadata": {
        "colab": {
          "base_uri": "https://localhost:8080/",
          "height": 647
        },
        "id": "38b7584d",
        "outputId": "56857762-654a-4895-f1c3-acbca7b574bb"
      },
      "outputs": [
        {
          "output_type": "display_data",
          "data": {
            "text/plain": [
              "<Figure size 360x216 with 1 Axes>"
            ],
            "image/png": "[encoded data removed]"
          },
          "metadata": {
            "needs_background": "light"
          }
        },
        {
          "output_type": "display_data",
          "data": {
            "text/plain": [
              "<Figure size 360x216 with 1 Axes>"
            ],
            "image/png": "[encoded data removed]"
          },
          "metadata": {
            "needs_background": "light"
          }
        },
        {
          "output_type": "display_data",
          "data": {
            "text/plain": [
              "<Figure size 360x216 with 1 Axes>"
            ],
            "image/png": "[encoded data removed]"
          },
          "metadata": {
            "needs_background": "light"
          }
        }
      ],
      "source": [
        "temp_dataloaders={'train': torch.utils.data.DataLoader(data_train,batch_size=1,shuffle=False),\n",
        "                'val':torch.utils.data.DataLoader(data_val,batch_size=1,shuffle=False),\n",
        "                'test':torch.utils.data.DataLoader(data_test,batch_size=1,shuffle=False)}\n",
        "\n",
        "train_labels=[0,0,0]\n",
        "for data, label, subject in temp_dataloaders['train']:\n",
        "    if label.data==0:\n",
        "        train_labels[0]+=1\n",
        "    elif label.data==1:\n",
        "        train_labels[1]+=1\n",
        "    else:\n",
        "        train_labels[2]+=1\n",
        "\n",
        "plt.figure(figsize=(5,3))\n",
        "plt.bar(np.arange(3),train_labels,color=['g','b','r'],width=0.7)\n",
        "plt.xticks(np.arange(3),['Normal','Prehypertension','Hypertension'])\n",
        "plt.title('Training-set Class Distribution')\n",
        "plt.show()\n",
        "\n",
        "val_labels=[0,0,0]\n",
        "for data, label, subject in temp_dataloaders['val']:\n",
        "    if label.data==0:\n",
        "        val_labels[0]+=1\n",
        "    elif label.data==1:\n",
        "        val_labels[1]+=1\n",
        "    else:\n",
        "        val_labels[2]+=1\n",
        "\n",
        "plt.figure(figsize=(5,3))\n",
        "plt.bar(np.arange(3),val_labels,color=['g','b','r'])\n",
        "plt.xticks(np.arange(3),['Normal','Prehypertension','Hypertension'])\n",
        "plt.title('Validation-set Class Distribution')\n",
        "plt.show()\n",
        "\n",
        "test_labels=[0,0,0]\n",
        "for data, label, subject in temp_dataloaders['test']:\n",
        "    if label.data==0:\n",
        "        test_labels[0]+=1\n",
        "    elif label.data==1:\n",
        "        test_labels[1]+=1\n",
        "    else:\n",
        "        test_labels[2]+=1\n",
        "\n",
        "plt.figure(figsize=(5,3))\n",
        "plt.bar(np.arange(3),test_labels,color=['g','b','r'])\n",
        "plt.xticks(np.arange(3),['Normal','Prehypertension','Hypertension'])\n",
        "plt.title('Test-set Class Distribution')\n",
        "plt.show()\n"
      ],
      "id": "38b7584d"
    },
    {
      "cell_type": "code",
      "source": [
        "model = Conv3Net(2).cuda()\n",
        "#model = CNN_LSTM(2).cuda()\n",
        "criterion = nn.CrossEntropyLoss()\n",
        "#criterion = nn.BCELoss()\n",
        "binary = False\n",
        "optimizer = optim.SGD(model.parameters(), lr=0.01, momentum=0.9, weight_decay=0.0005)\n",
        "n_epoch = 180\n",
        "loss = 0\n",
        "acc = 0\n",
        "best_acc = 0\n",
        "for ep in range(n_epoch):\n",
        "    train_acc, train_loss = train(dataloaders['train'], model, optimizer, ep, criterion, binary)\n",
        "    val_acc, val_loss = val(dataloaders['val'], model, criterion, binary)\n",
        "    if val_acc > best_acc:\n",
        "        state = {\n",
        "            'epoch': ep + 1,\n",
        "            'acc': acc,\n",
        "            'model_state': model.state_dict(),\n",
        "        }\n",
        "        best_acc = val_acc\n",
        "    if (ep + 1) % 60 == 0:\n",
        "        lr_decay(optimizer, decay_rate=0.1)\n",
        "\n",
        "model.load_state_dict(state['model_state'])\n",
        "test_acc, test_loss = val(dataloaders['test'], model, criterion, binary)"
      ],
      "metadata": {
        "colab": {
          "base_uri": "https://localhost:8080/",
          "height": 385
        },
        "id": "2MwjTY-CzFiB",
        "outputId": "a8f04ef4-c802-4708-fa3c-0f2bc6b20743"
      },
      "id": "2MwjTY-CzFiB",
      "execution_count": null,
      "outputs": [
        {
          "output_type": "error",
          "ename": "RuntimeError",
          "evalue": "ignored",
          "traceback": [
            "\u001b[0;31m---------------------------------------------------------------------------\u001b[0m",
            "\u001b[0;31mRuntimeError\u001b[0m                              Traceback (most recent call last)",
            "\u001b[0;32m<ipython-input-36-86edd45b09f1>\u001b[0m in \u001b[0;36m<module>\u001b[0;34m\u001b[0m\n\u001b[1;32m     10\u001b[0m \u001b[0mbest_acc\u001b[0m \u001b[0;34m=\u001b[0m \u001b[0;36m0\u001b[0m\u001b[0;34m\u001b[0m\u001b[0;34m\u001b[0m\u001b[0m\n\u001b[1;32m     11\u001b[0m \u001b[0;32mfor\u001b[0m \u001b[0mep\u001b[0m \u001b[0;32min\u001b[0m \u001b[0mrange\u001b[0m\u001b[0;34m(\u001b[0m\u001b[0mn_epoch\u001b[0m\u001b[0;34m)\u001b[0m\u001b[0;34m:\u001b[0m\u001b[0;34m\u001b[0m\u001b[0;34m\u001b[0m\u001b[0m\n\u001b[0;32m---> 12\u001b[0;31m     \u001b[0mtrain_acc\u001b[0m\u001b[0;34m,\u001b[0m \u001b[0mtrain_loss\u001b[0m \u001b[0;34m=\u001b[0m \u001b[0mtrain\u001b[0m\u001b[0;34m(\u001b[0m\u001b[0mdataloaders\u001b[0m\u001b[0;34m[\u001b[0m\u001b[0;34m'train'\u001b[0m\u001b[0;34m]\u001b[0m\u001b[0;34m,\u001b[0m \u001b[0mmodel\u001b[0m\u001b[0;34m,\u001b[0m \u001b[0moptimizer\u001b[0m\u001b[0;34m,\u001b[0m \u001b[0mep\u001b[0m\u001b[0;34m,\u001b[0m \u001b[0mcriterion\u001b[0m\u001b[0;34m,\u001b[0m \u001b[0mbinary\u001b[0m\u001b[0;34m)\u001b[0m\u001b[0;34m\u001b[0m\u001b[0;34m\u001b[0m\u001b[0m\n\u001b[0m\u001b[1;32m     13\u001b[0m     \u001b[0mval_acc\u001b[0m\u001b[0;34m,\u001b[0m \u001b[0mval_loss\u001b[0m \u001b[0;34m=\u001b[0m \u001b[0mval\u001b[0m\u001b[0;34m(\u001b[0m\u001b[0mdataloaders\u001b[0m\u001b[0;34m[\u001b[0m\u001b[0;34m'val'\u001b[0m\u001b[0;34m]\u001b[0m\u001b[0;34m,\u001b[0m \u001b[0mmodel\u001b[0m\u001b[0;34m,\u001b[0m \u001b[0mcriterion\u001b[0m\u001b[0;34m,\u001b[0m \u001b[0mbinary\u001b[0m\u001b[0;34m)\u001b[0m\u001b[0;34m\u001b[0m\u001b[0;34m\u001b[0m\u001b[0m\n\u001b[1;32m     14\u001b[0m     \u001b[0;32mif\u001b[0m \u001b[0mval_acc\u001b[0m \u001b[0;34m>\u001b[0m \u001b[0mbest_acc\u001b[0m\u001b[0;34m:\u001b[0m\u001b[0;34m\u001b[0m\u001b[0;34m\u001b[0m\u001b[0m\n",
            "\u001b[0;32m<ipython-input-31-eb06337aa40c>\u001b[0m in \u001b[0;36mtrain\u001b[0;34m(data_loader, model, optimizer, epoch, criterion, binary)\u001b[0m\n\u001b[1;32m     13\u001b[0m \u001b[0;34m\u001b[0m\u001b[0m\n\u001b[1;32m     14\u001b[0m         \u001b[0;31m# forward\u001b[0m\u001b[0;34m\u001b[0m\u001b[0;34m\u001b[0m\u001b[0;34m\u001b[0m\u001b[0m\n\u001b[0;32m---> 15\u001b[0;31m         \u001b[0moutput\u001b[0m \u001b[0;34m=\u001b[0m \u001b[0mmodel\u001b[0m\u001b[0;34m(\u001b[0m\u001b[0mdata\u001b[0m\u001b[0;34m)\u001b[0m\u001b[0;34m.\u001b[0m\u001b[0msqueeze\u001b[0m\u001b[0;34m(\u001b[0m\u001b[0;34m)\u001b[0m\u001b[0;34m\u001b[0m\u001b[0;34m\u001b[0m\u001b[0m\n\u001b[0m\u001b[1;32m     16\u001b[0m \u001b[0;34m\u001b[0m\u001b[0m\n\u001b[1;32m     17\u001b[0m         \u001b[0;31m# compute loss\u001b[0m\u001b[0;34m\u001b[0m\u001b[0;34m\u001b[0m\u001b[0;34m\u001b[0m\u001b[0m\n",
            "\u001b[0;32m/usr/local/lib/python3.8/dist-packages/torch/nn/modules/module.py\u001b[0m in \u001b[0;36m_call_impl\u001b[0;34m(self, *input, **kwargs)\u001b[0m\n\u001b[1;32m   1192\u001b[0m         if not (self._backward_hooks or self._forward_hooks or self._forward_pre_hooks or _global_backward_hooks\n\u001b[1;32m   1193\u001b[0m                 or _global_forward_hooks or _global_forward_pre_hooks):\n\u001b[0;32m-> 1194\u001b[0;31m             \u001b[0;32mreturn\u001b[0m \u001b[0mforward_call\u001b[0m\u001b[0;34m(\u001b[0m\u001b[0;34m*\u001b[0m\u001b[0minput\u001b[0m\u001b[0;34m,\u001b[0m \u001b[0;34m**\u001b[0m\u001b[0mkwargs\u001b[0m\u001b[0;34m)\u001b[0m\u001b[0;34m\u001b[0m\u001b[0;34m\u001b[0m\u001b[0m\n\u001b[0m\u001b[1;32m   1195\u001b[0m         \u001b[0;31m# Do not call functions when jit is used\u001b[0m\u001b[0;34m\u001b[0m\u001b[0;34m\u001b[0m\u001b[0;34m\u001b[0m\u001b[0m\n\u001b[1;32m   1196\u001b[0m         \u001b[0mfull_backward_hooks\u001b[0m\u001b[0;34m,\u001b[0m \u001b[0mnon_full_backward_hooks\u001b[0m \u001b[0;34m=\u001b[0m \u001b[0;34m[\u001b[0m\u001b[0;34m]\u001b[0m\u001b[0;34m,\u001b[0m \u001b[0;34m[\u001b[0m\u001b[0;34m]\u001b[0m\u001b[0;34m\u001b[0m\u001b[0;34m\u001b[0m\u001b[0m\n",
            "\u001b[0;32m<ipython-input-32-0759ee4f102b>\u001b[0m in \u001b[0;36mforward\u001b[0;34m(self, x)\u001b[0m\n\u001b[1;32m     21\u001b[0m \u001b[0;34m\u001b[0m\u001b[0m\n\u001b[1;32m     22\u001b[0m     \u001b[0;32mdef\u001b[0m \u001b[0mforward\u001b[0m\u001b[0;34m(\u001b[0m\u001b[0mself\u001b[0m\u001b[0;34m,\u001b[0m \u001b[0mx\u001b[0m\u001b[0;34m)\u001b[0m\u001b[0;34m:\u001b[0m\u001b[0;34m\u001b[0m\u001b[0;34m\u001b[0m\u001b[0m\n\u001b[0;32m---> 23\u001b[0;31m         \u001b[0mx\u001b[0m \u001b[0;34m=\u001b[0m \u001b[0mself\u001b[0m\u001b[0;34m.\u001b[0m\u001b[0mfeature_extractor\u001b[0m\u001b[0;34m(\u001b[0m\u001b[0mx\u001b[0m\u001b[0;34m)\u001b[0m\u001b[0;34m\u001b[0m\u001b[0;34m\u001b[0m\u001b[0m\n\u001b[0m\u001b[1;32m     24\u001b[0m         \u001b[0mx\u001b[0m \u001b[0;34m=\u001b[0m \u001b[0mx\u001b[0m\u001b[0;34m.\u001b[0m\u001b[0mview\u001b[0m\u001b[0;34m(\u001b[0m\u001b[0mx\u001b[0m\u001b[0;34m.\u001b[0m\u001b[0msize\u001b[0m\u001b[0;34m(\u001b[0m\u001b[0;36m0\u001b[0m\u001b[0;34m)\u001b[0m\u001b[0;34m,\u001b[0m \u001b[0;34m-\u001b[0m\u001b[0;36m1\u001b[0m\u001b[0;34m)\u001b[0m\u001b[0;34m\u001b[0m\u001b[0;34m\u001b[0m\u001b[0m\n\u001b[1;32m     25\u001b[0m         \u001b[0;32mreturn\u001b[0m \u001b[0mself\u001b[0m\u001b[0;34m.\u001b[0m\u001b[0mclassifier\u001b[0m\u001b[0;34m(\u001b[0m\u001b[0mx\u001b[0m\u001b[0;34m)\u001b[0m\u001b[0;34m\u001b[0m\u001b[0;34m\u001b[0m\u001b[0m\n",
            "\u001b[0;32m/usr/local/lib/python3.8/dist-packages/torch/nn/modules/module.py\u001b[0m in \u001b[0;36m_call_impl\u001b[0;34m(self, *input, **kwargs)\u001b[0m\n\u001b[1;32m   1192\u001b[0m         if not (self._backward_hooks or self._forward_hooks or self._forward_pre_hooks or _global_backward_hooks\n\u001b[1;32m   1193\u001b[0m                 or _global_forward_hooks or _global_forward_pre_hooks):\n\u001b[0;32m-> 1194\u001b[0;31m             \u001b[0;32mreturn\u001b[0m \u001b[0mforward_call\u001b[0m\u001b[0;34m(\u001b[0m\u001b[0;34m*\u001b[0m\u001b[0minput\u001b[0m\u001b[0;34m,\u001b[0m \u001b[0;34m**\u001b[0m\u001b[0mkwargs\u001b[0m\u001b[0;34m)\u001b[0m\u001b[0;34m\u001b[0m\u001b[0;34m\u001b[0m\u001b[0m\n\u001b[0m\u001b[1;32m   1195\u001b[0m         \u001b[0;31m# Do not call functions when jit is used\u001b[0m\u001b[0;34m\u001b[0m\u001b[0;34m\u001b[0m\u001b[0;34m\u001b[0m\u001b[0m\n\u001b[1;32m   1196\u001b[0m         \u001b[0mfull_backward_hooks\u001b[0m\u001b[0;34m,\u001b[0m \u001b[0mnon_full_backward_hooks\u001b[0m \u001b[0;34m=\u001b[0m \u001b[0;34m[\u001b[0m\u001b[0;34m]\u001b[0m\u001b[0;34m,\u001b[0m \u001b[0;34m[\u001b[0m\u001b[0;34m]\u001b[0m\u001b[0;34m\u001b[0m\u001b[0;34m\u001b[0m\u001b[0m\n",
            "\u001b[0;32m/usr/local/lib/python3.8/dist-packages/torch/nn/modules/container.py\u001b[0m in \u001b[0;36mforward\u001b[0;34m(self, input)\u001b[0m\n\u001b[1;32m    202\u001b[0m     \u001b[0;32mdef\u001b[0m \u001b[0mforward\u001b[0m\u001b[0;34m(\u001b[0m\u001b[0mself\u001b[0m\u001b[0;34m,\u001b[0m \u001b[0minput\u001b[0m\u001b[0;34m)\u001b[0m\u001b[0;34m:\u001b[0m\u001b[0;34m\u001b[0m\u001b[0;34m\u001b[0m\u001b[0m\n\u001b[1;32m    203\u001b[0m         \u001b[0;32mfor\u001b[0m \u001b[0mmodule\u001b[0m \u001b[0;32min\u001b[0m \u001b[0mself\u001b[0m\u001b[0;34m:\u001b[0m\u001b[0;34m\u001b[0m\u001b[0;34m\u001b[0m\u001b[0m\n\u001b[0;32m--> 204\u001b[0;31m             \u001b[0minput\u001b[0m \u001b[0;34m=\u001b[0m \u001b[0mmodule\u001b[0m\u001b[0;34m(\u001b[0m\u001b[0minput\u001b[0m\u001b[0;34m)\u001b[0m\u001b[0;34m\u001b[0m\u001b[0;34m\u001b[0m\u001b[0m\n\u001b[0m\u001b[1;32m    205\u001b[0m         \u001b[0;32mreturn\u001b[0m \u001b[0minput\u001b[0m\u001b[0;34m\u001b[0m\u001b[0;34m\u001b[0m\u001b[0m\n\u001b[1;32m    206\u001b[0m \u001b[0;34m\u001b[0m\u001b[0m\n",
            "\u001b[0;32m/usr/local/lib/python3.8/dist-packages/torch/nn/modules/module.py\u001b[0m in \u001b[0;36m_call_impl\u001b[0;34m(self, *input, **kwargs)\u001b[0m\n\u001b[1;32m   1192\u001b[0m         if not (self._backward_hooks or self._forward_hooks or self._forward_pre_hooks or _global_backward_hooks\n\u001b[1;32m   1193\u001b[0m                 or _global_forward_hooks or _global_forward_pre_hooks):\n\u001b[0;32m-> 1194\u001b[0;31m             \u001b[0;32mreturn\u001b[0m \u001b[0mforward_call\u001b[0m\u001b[0;34m(\u001b[0m\u001b[0;34m*\u001b[0m\u001b[0minput\u001b[0m\u001b[0;34m,\u001b[0m \u001b[0;34m**\u001b[0m\u001b[0mkwargs\u001b[0m\u001b[0;34m)\u001b[0m\u001b[0;34m\u001b[0m\u001b[0;34m\u001b[0m\u001b[0m\n\u001b[0m\u001b[1;32m   1195\u001b[0m         \u001b[0;31m# Do not call functions when jit is used\u001b[0m\u001b[0;34m\u001b[0m\u001b[0;34m\u001b[0m\u001b[0;34m\u001b[0m\u001b[0m\n\u001b[1;32m   1196\u001b[0m         \u001b[0mfull_backward_hooks\u001b[0m\u001b[0;34m,\u001b[0m \u001b[0mnon_full_backward_hooks\u001b[0m \u001b[0;34m=\u001b[0m \u001b[0;34m[\u001b[0m\u001b[0;34m]\u001b[0m\u001b[0;34m,\u001b[0m \u001b[0;34m[\u001b[0m\u001b[0;34m]\u001b[0m\u001b[0;34m\u001b[0m\u001b[0;34m\u001b[0m\u001b[0m\n",
            "\u001b[0;32m/usr/local/lib/python3.8/dist-packages/torch/nn/modules/conv.py\u001b[0m in \u001b[0;36mforward\u001b[0;34m(self, input)\u001b[0m\n\u001b[1;32m    311\u001b[0m \u001b[0;34m\u001b[0m\u001b[0m\n\u001b[1;32m    312\u001b[0m     \u001b[0;32mdef\u001b[0m \u001b[0mforward\u001b[0m\u001b[0;34m(\u001b[0m\u001b[0mself\u001b[0m\u001b[0;34m,\u001b[0m \u001b[0minput\u001b[0m\u001b[0;34m:\u001b[0m \u001b[0mTensor\u001b[0m\u001b[0;34m)\u001b[0m \u001b[0;34m->\u001b[0m \u001b[0mTensor\u001b[0m\u001b[0;34m:\u001b[0m\u001b[0;34m\u001b[0m\u001b[0;34m\u001b[0m\u001b[0m\n\u001b[0;32m--> 313\u001b[0;31m         \u001b[0;32mreturn\u001b[0m \u001b[0mself\u001b[0m\u001b[0;34m.\u001b[0m\u001b[0m_conv_forward\u001b[0m\u001b[0;34m(\u001b[0m\u001b[0minput\u001b[0m\u001b[0;34m,\u001b[0m \u001b[0mself\u001b[0m\u001b[0;34m.\u001b[0m\u001b[0mweight\u001b[0m\u001b[0;34m,\u001b[0m \u001b[0mself\u001b[0m\u001b[0;34m.\u001b[0m\u001b[0mbias\u001b[0m\u001b[0;34m)\u001b[0m\u001b[0;34m\u001b[0m\u001b[0;34m\u001b[0m\u001b[0m\n\u001b[0m\u001b[1;32m    314\u001b[0m \u001b[0;34m\u001b[0m\u001b[0m\n\u001b[1;32m    315\u001b[0m \u001b[0;34m\u001b[0m\u001b[0m\n",
            "\u001b[0;32m/usr/local/lib/python3.8/dist-packages/torch/nn/modules/conv.py\u001b[0m in \u001b[0;36m_conv_forward\u001b[0;34m(self, input, weight, bias)\u001b[0m\n\u001b[1;32m    307\u001b[0m                             \u001b[0mweight\u001b[0m\u001b[0;34m,\u001b[0m \u001b[0mbias\u001b[0m\u001b[0;34m,\u001b[0m \u001b[0mself\u001b[0m\u001b[0;34m.\u001b[0m\u001b[0mstride\u001b[0m\u001b[0;34m,\u001b[0m\u001b[0;34m\u001b[0m\u001b[0;34m\u001b[0m\u001b[0m\n\u001b[1;32m    308\u001b[0m                             _single(0), self.dilation, self.groups)\n\u001b[0;32m--> 309\u001b[0;31m         return F.conv1d(input, weight, bias, self.stride,\n\u001b[0m\u001b[1;32m    310\u001b[0m                         self.padding, self.dilation, self.groups)\n\u001b[1;32m    311\u001b[0m \u001b[0;34m\u001b[0m\u001b[0m\n",
            "\u001b[0;31mRuntimeError\u001b[0m: cuDNN error: CUDNN_STATUS_MAPPING_ERROR"
          ]
        }
      ]
    },
    {
      "cell_type": "markdown",
      "source": [
        "### Our Results: \\[\"Normal\", \"hypertension\"]"
      ],
      "metadata": {
        "id": "8MNi0KSX0RgX"
      },
      "id": "8MNi0KSX0RgX"
    },
    {
      "cell_type": "code",
      "source": [
        "data_mean=2060.61\n",
        "data_std=285.13\n",
        "data_normalization = {'mean':data_mean,'std':data_std}\n",
        "\n",
        "# setup data loader\n",
        "dataset = BPDataset(ppg_dir, label_path, normalize=data_normalization, choose_class=[0,2])\n",
        "print('dataset: {}'.format(dataset.__len__()))\n",
        "\n",
        "# Split training data, validation data, testing data\n",
        "# [0,1] -> [312, 78, 97]\n",
        "# [0,2] -> [255, 64, 80]\n",
        "# [0,1,2]-> [415, 104, 129]\n",
        "data_train, data_val, data_test = torch.utils.data.random_split(dataset, [255, 64, 80])\n",
        "print(data_train.__len__())\n",
        "print(data_val.__len__())\n",
        "print(data_test.__len__())"
      ],
      "metadata": {
        "colab": {
          "base_uri": "https://localhost:8080/"
        },
        "id": "vqHzByty0bCz",
        "outputId": "dd36d010-2ddf-4bd6-cf26-9888f63fd4ce"
      },
      "id": "vqHzByty0bCz",
      "execution_count": null,
      "outputs": [
        {
          "output_type": "stream",
          "name": "stdout",
          "text": [
            "dataset: 399\n",
            "255\n",
            "64\n",
            "80\n"
          ]
        }
      ]
    },
    {
      "cell_type": "code",
      "source": [
        "temp_dataloaders={'train': torch.utils.data.DataLoader(data_train,batch_size=1,shuffle=False),\n",
        "                'val':torch.utils.data.DataLoader(data_val,batch_size=1,shuffle=False),\n",
        "                'test':torch.utils.data.DataLoader(data_test,batch_size=1,shuffle=False)}\n",
        "\n",
        "train_labels=[0,0,0]\n",
        "for data, label, subject in temp_dataloaders['train']:\n",
        "    if label.data==0:\n",
        "        train_labels[0]+=1\n",
        "    elif label.data==1:\n",
        "        train_labels[1]+=1\n",
        "    else:\n",
        "        train_labels[2]+=1\n",
        "\n",
        "plt.figure(figsize=(5,3))\n",
        "plt.bar(np.arange(3),train_labels,color=['g','b','r'],width=0.7)\n",
        "plt.xticks(np.arange(3),['Normal','Prehypertension','Hypertension'])\n",
        "plt.title('Training-set Class Distribution')\n",
        "plt.show()\n",
        "\n",
        "val_labels=[0,0,0]\n",
        "for data, label, subject in temp_dataloaders['val']:\n",
        "    if label.data==0:\n",
        "        val_labels[0]+=1\n",
        "    elif label.data==1:\n",
        "        val_labels[1]+=1\n",
        "    else:\n",
        "        val_labels[2]+=1\n",
        "\n",
        "plt.figure(figsize=(5,3))\n",
        "plt.bar(np.arange(3),val_labels,color=['g','b','r'])\n",
        "plt.xticks(np.arange(3),['Normal','Prehypertension','Hypertension'])\n",
        "plt.title('Validation-set Class Distribution')\n",
        "plt.show()\n",
        "\n",
        "test_labels=[0,0,0]\n",
        "for data, label, subject in temp_dataloaders['test']:\n",
        "    if label.data==0:\n",
        "        test_labels[0]+=1\n",
        "    elif label.data==1:\n",
        "        test_labels[1]+=1\n",
        "    else:\n",
        "        test_labels[2]+=1\n",
        "\n",
        "plt.figure(figsize=(5,3))\n",
        "plt.bar(np.arange(3),test_labels,color=['g','b','r'])\n",
        "plt.xticks(np.arange(3),['Normal','Prehypertension','Hypertension'])\n",
        "plt.title('Test-set Class Distribution')\n",
        "plt.show()\n"
      ],
      "metadata": {
        "colab": {
          "base_uri": "https://localhost:8080/",
          "height": 647
        },
        "id": "SzF7jLMORncb",
        "outputId": "0b33b751-ecab-4cc2-fa0a-db59ca5f54d1"
      },
      "id": "SzF7jLMORncb",
      "execution_count": null,
      "outputs": [
        {
          "output_type": "display_data",
          "data": {
            "text/plain": [
              "<Figure size 360x216 with 1 Axes>"
            ],
            "image/png": "[encoded data removed]"
          },
          "metadata": {
            "needs_background": "light"
          }
        },
        {
          "output_type": "display_data",
          "data": {
            "text/plain": [
              "<Figure size 360x216 with 1 Axes>"
            ],
            "image/png": "[encoded data removed]"
          },
          "metadata": {
            "needs_background": "light"
          }
        },
        {
          "output_type": "display_data",
          "data": {
            "text/plain": [
              "<Figure size 360x216 with 1 Axes>"
            ],
            "image/png": "[encoded data removed]"
          },
          "metadata": {
            "needs_background": "light"
          }
        }
      ]
    },
    {
      "cell_type": "code",
      "source": [
        "dataloaders={'train': torch.utils.data.DataLoader(data_train,batch_size=10,shuffle=True),\n",
        "                'val':torch.utils.data.DataLoader(data_val,batch_size=10,shuffle=True),\n",
        "                'test':torch.utils.data.DataLoader(data_test,batch_size=10,shuffle=False)}\n",
        "dataset_sizes = {'train': data_train.__len__(),\n",
        "                    'val':data_val.__len__(),\n",
        "                    'test':data_test.__len__()}\n",
        "\n",
        "device = torch.device(\"cuda\" if torch.cuda.is_available() else \"cpu\")\n",
        "print('Device:',device)"
      ],
      "metadata": {
        "colab": {
          "base_uri": "https://localhost:8080/"
        },
        "id": "crBhHuDR5lHD",
        "outputId": "2870d330-b543-418a-fbcf-3f0f3c6e838b"
      },
      "id": "crBhHuDR5lHD",
      "execution_count": null,
      "outputs": [
        {
          "output_type": "stream",
          "name": "stdout",
          "text": [
            "Device: cuda\n"
          ]
        }
      ]
    },
    {
      "cell_type": "code",
      "source": [
        "model = Conv3Net(2).cuda()\n",
        "#model = CNN_LSTM(2).cuda()\n",
        "criterion = nn.CrossEntropyLoss()\n",
        "optimizer = optim.SGD(model.parameters(), lr=0.01, momentum=0.9, weight_decay=0.0005)\n",
        "n_epoch = 180\n",
        "loss = 0\n",
        "acc = 0\n",
        "best_acc = 0\n",
        "for ep in range(n_epoch):\n",
        "    train_acc, train_loss = train(dataloaders['train'], model, optimizer, ep, criterion)\n",
        "    val_acc, val_loss = val(dataloaders['val'], model, criterion)\n",
        "    if val_acc > best_acc:\n",
        "        state = {\n",
        "            'epoch': ep + 1,\n",
        "            'acc': acc,\n",
        "            'model_state': model.state_dict(),\n",
        "        }\n",
        "        best_acc = val_acc\n",
        "    if (ep + 1) % 60 == 0:\n",
        "        lr_decay(optimizer, decay_rate=0.1)\n",
        "\n",
        "model.load_state_dict(state['model_state'])\n",
        "test_acc, test_loss = val(dataloaders['test'], model, criterion)"
      ],
      "metadata": {
        "colab": {
          "base_uri": "https://localhost:8080/",
          "height": 385
        },
        "id": "0-Jvl1g601uz",
        "outputId": "3a7106f8-6e50-422d-9eb5-106786310c6c"
      },
      "id": "0-Jvl1g601uz",
      "execution_count": null,
      "outputs": [
        {
          "output_type": "error",
          "ename": "RuntimeError",
          "evalue": "ignored",
          "traceback": [
            "\u001b[0;31m---------------------------------------------------------------------------\u001b[0m",
            "\u001b[0;31mRuntimeError\u001b[0m                              Traceback (most recent call last)",
            "\u001b[0;32m<ipython-input-20-7def077c3ce3>\u001b[0m in \u001b[0;36m<module>\u001b[0;34m\u001b[0m\n\u001b[1;32m      8\u001b[0m \u001b[0mbest_acc\u001b[0m \u001b[0;34m=\u001b[0m \u001b[0;36m0\u001b[0m\u001b[0;34m\u001b[0m\u001b[0;34m\u001b[0m\u001b[0m\n\u001b[1;32m      9\u001b[0m \u001b[0;32mfor\u001b[0m \u001b[0mep\u001b[0m \u001b[0;32min\u001b[0m \u001b[0mrange\u001b[0m\u001b[0;34m(\u001b[0m\u001b[0mn_epoch\u001b[0m\u001b[0;34m)\u001b[0m\u001b[0;34m:\u001b[0m\u001b[0;34m\u001b[0m\u001b[0;34m\u001b[0m\u001b[0m\n\u001b[0;32m---> 10\u001b[0;31m     \u001b[0mtrain_acc\u001b[0m\u001b[0;34m,\u001b[0m \u001b[0mtrain_loss\u001b[0m \u001b[0;34m=\u001b[0m \u001b[0mtrain\u001b[0m\u001b[0;34m(\u001b[0m\u001b[0mdataloaders\u001b[0m\u001b[0;34m[\u001b[0m\u001b[0;34m'train'\u001b[0m\u001b[0;34m]\u001b[0m\u001b[0;34m,\u001b[0m \u001b[0mmodel\u001b[0m\u001b[0;34m,\u001b[0m \u001b[0moptimizer\u001b[0m\u001b[0;34m,\u001b[0m \u001b[0mep\u001b[0m\u001b[0;34m,\u001b[0m \u001b[0mcriterion\u001b[0m\u001b[0;34m)\u001b[0m\u001b[0;34m\u001b[0m\u001b[0;34m\u001b[0m\u001b[0m\n\u001b[0m\u001b[1;32m     11\u001b[0m     \u001b[0mval_acc\u001b[0m\u001b[0;34m,\u001b[0m \u001b[0mval_loss\u001b[0m \u001b[0;34m=\u001b[0m \u001b[0mval\u001b[0m\u001b[0;34m(\u001b[0m\u001b[0mdataloaders\u001b[0m\u001b[0;34m[\u001b[0m\u001b[0;34m'val'\u001b[0m\u001b[0;34m]\u001b[0m\u001b[0;34m,\u001b[0m \u001b[0mmodel\u001b[0m\u001b[0;34m,\u001b[0m \u001b[0mcriterion\u001b[0m\u001b[0;34m)\u001b[0m\u001b[0;34m\u001b[0m\u001b[0;34m\u001b[0m\u001b[0m\n\u001b[1;32m     12\u001b[0m     \u001b[0;32mif\u001b[0m \u001b[0mval_acc\u001b[0m \u001b[0;34m>\u001b[0m \u001b[0mbest_acc\u001b[0m\u001b[0;34m:\u001b[0m\u001b[0;34m\u001b[0m\u001b[0;34m\u001b[0m\u001b[0m\n",
            "\u001b[0;32m<ipython-input-12-eb06337aa40c>\u001b[0m in \u001b[0;36mtrain\u001b[0;34m(data_loader, model, optimizer, epoch, criterion, binary)\u001b[0m\n\u001b[1;32m     13\u001b[0m \u001b[0;34m\u001b[0m\u001b[0m\n\u001b[1;32m     14\u001b[0m         \u001b[0;31m# forward\u001b[0m\u001b[0;34m\u001b[0m\u001b[0;34m\u001b[0m\u001b[0;34m\u001b[0m\u001b[0m\n\u001b[0;32m---> 15\u001b[0;31m         \u001b[0moutput\u001b[0m \u001b[0;34m=\u001b[0m \u001b[0mmodel\u001b[0m\u001b[0;34m(\u001b[0m\u001b[0mdata\u001b[0m\u001b[0;34m)\u001b[0m\u001b[0;34m.\u001b[0m\u001b[0msqueeze\u001b[0m\u001b[0;34m(\u001b[0m\u001b[0;34m)\u001b[0m\u001b[0;34m\u001b[0m\u001b[0;34m\u001b[0m\u001b[0m\n\u001b[0m\u001b[1;32m     16\u001b[0m \u001b[0;34m\u001b[0m\u001b[0m\n\u001b[1;32m     17\u001b[0m         \u001b[0;31m# compute loss\u001b[0m\u001b[0;34m\u001b[0m\u001b[0;34m\u001b[0m\u001b[0;34m\u001b[0m\u001b[0m\n",
            "\u001b[0;32m/usr/local/lib/python3.8/dist-packages/torch/nn/modules/module.py\u001b[0m in \u001b[0;36m_call_impl\u001b[0;34m(self, *input, **kwargs)\u001b[0m\n\u001b[1;32m   1192\u001b[0m         if not (self._backward_hooks or self._forward_hooks or self._forward_pre_hooks or _global_backward_hooks\n\u001b[1;32m   1193\u001b[0m                 or _global_forward_hooks or _global_forward_pre_hooks):\n\u001b[0;32m-> 1194\u001b[0;31m             \u001b[0;32mreturn\u001b[0m \u001b[0mforward_call\u001b[0m\u001b[0;34m(\u001b[0m\u001b[0;34m*\u001b[0m\u001b[0minput\u001b[0m\u001b[0;34m,\u001b[0m \u001b[0;34m**\u001b[0m\u001b[0mkwargs\u001b[0m\u001b[0;34m)\u001b[0m\u001b[0;34m\u001b[0m\u001b[0;34m\u001b[0m\u001b[0m\n\u001b[0m\u001b[1;32m   1195\u001b[0m         \u001b[0;31m# Do not call functions when jit is used\u001b[0m\u001b[0;34m\u001b[0m\u001b[0;34m\u001b[0m\u001b[0;34m\u001b[0m\u001b[0m\n\u001b[1;32m   1196\u001b[0m         \u001b[0mfull_backward_hooks\u001b[0m\u001b[0;34m,\u001b[0m \u001b[0mnon_full_backward_hooks\u001b[0m \u001b[0;34m=\u001b[0m \u001b[0;34m[\u001b[0m\u001b[0;34m]\u001b[0m\u001b[0;34m,\u001b[0m \u001b[0;34m[\u001b[0m\u001b[0;34m]\u001b[0m\u001b[0;34m\u001b[0m\u001b[0;34m\u001b[0m\u001b[0m\n",
            "\u001b[0;32m<ipython-input-13-0759ee4f102b>\u001b[0m in \u001b[0;36mforward\u001b[0;34m(self, x)\u001b[0m\n\u001b[1;32m     21\u001b[0m \u001b[0;34m\u001b[0m\u001b[0m\n\u001b[1;32m     22\u001b[0m     \u001b[0;32mdef\u001b[0m \u001b[0mforward\u001b[0m\u001b[0;34m(\u001b[0m\u001b[0mself\u001b[0m\u001b[0;34m,\u001b[0m \u001b[0mx\u001b[0m\u001b[0;34m)\u001b[0m\u001b[0;34m:\u001b[0m\u001b[0;34m\u001b[0m\u001b[0;34m\u001b[0m\u001b[0m\n\u001b[0;32m---> 23\u001b[0;31m         \u001b[0mx\u001b[0m \u001b[0;34m=\u001b[0m \u001b[0mself\u001b[0m\u001b[0;34m.\u001b[0m\u001b[0mfeature_extractor\u001b[0m\u001b[0;34m(\u001b[0m\u001b[0mx\u001b[0m\u001b[0;34m)\u001b[0m\u001b[0;34m\u001b[0m\u001b[0;34m\u001b[0m\u001b[0m\n\u001b[0m\u001b[1;32m     24\u001b[0m         \u001b[0mx\u001b[0m \u001b[0;34m=\u001b[0m \u001b[0mx\u001b[0m\u001b[0;34m.\u001b[0m\u001b[0mview\u001b[0m\u001b[0;34m(\u001b[0m\u001b[0mx\u001b[0m\u001b[0;34m.\u001b[0m\u001b[0msize\u001b[0m\u001b[0;34m(\u001b[0m\u001b[0;36m0\u001b[0m\u001b[0;34m)\u001b[0m\u001b[0;34m,\u001b[0m \u001b[0;34m-\u001b[0m\u001b[0;36m1\u001b[0m\u001b[0;34m)\u001b[0m\u001b[0;34m\u001b[0m\u001b[0;34m\u001b[0m\u001b[0m\n\u001b[1;32m     25\u001b[0m         \u001b[0;32mreturn\u001b[0m \u001b[0mself\u001b[0m\u001b[0;34m.\u001b[0m\u001b[0mclassifier\u001b[0m\u001b[0;34m(\u001b[0m\u001b[0mx\u001b[0m\u001b[0;34m)\u001b[0m\u001b[0;34m\u001b[0m\u001b[0;34m\u001b[0m\u001b[0m\n",
            "\u001b[0;32m/usr/local/lib/python3.8/dist-packages/torch/nn/modules/module.py\u001b[0m in \u001b[0;36m_call_impl\u001b[0;34m(self, *input, **kwargs)\u001b[0m\n\u001b[1;32m   1192\u001b[0m         if not (self._backward_hooks or self._forward_hooks or self._forward_pre_hooks or _global_backward_hooks\n\u001b[1;32m   1193\u001b[0m                 or _global_forward_hooks or _global_forward_pre_hooks):\n\u001b[0;32m-> 1194\u001b[0;31m             \u001b[0;32mreturn\u001b[0m \u001b[0mforward_call\u001b[0m\u001b[0;34m(\u001b[0m\u001b[0;34m*\u001b[0m\u001b[0minput\u001b[0m\u001b[0;34m,\u001b[0m \u001b[0;34m**\u001b[0m\u001b[0mkwargs\u001b[0m\u001b[0;34m)\u001b[0m\u001b[0;34m\u001b[0m\u001b[0;34m\u001b[0m\u001b[0m\n\u001b[0m\u001b[1;32m   1195\u001b[0m         \u001b[0;31m# Do not call functions when jit is used\u001b[0m\u001b[0;34m\u001b[0m\u001b[0;34m\u001b[0m\u001b[0;34m\u001b[0m\u001b[0m\n\u001b[1;32m   1196\u001b[0m         \u001b[0mfull_backward_hooks\u001b[0m\u001b[0;34m,\u001b[0m \u001b[0mnon_full_backward_hooks\u001b[0m \u001b[0;34m=\u001b[0m \u001b[0;34m[\u001b[0m\u001b[0;34m]\u001b[0m\u001b[0;34m,\u001b[0m \u001b[0;34m[\u001b[0m\u001b[0;34m]\u001b[0m\u001b[0;34m\u001b[0m\u001b[0;34m\u001b[0m\u001b[0m\n",
            "\u001b[0;32m/usr/local/lib/python3.8/dist-packages/torch/nn/modules/container.py\u001b[0m in \u001b[0;36mforward\u001b[0;34m(self, input)\u001b[0m\n\u001b[1;32m    202\u001b[0m     \u001b[0;32mdef\u001b[0m \u001b[0mforward\u001b[0m\u001b[0;34m(\u001b[0m\u001b[0mself\u001b[0m\u001b[0;34m,\u001b[0m \u001b[0minput\u001b[0m\u001b[0;34m)\u001b[0m\u001b[0;34m:\u001b[0m\u001b[0;34m\u001b[0m\u001b[0;34m\u001b[0m\u001b[0m\n\u001b[1;32m    203\u001b[0m         \u001b[0;32mfor\u001b[0m \u001b[0mmodule\u001b[0m \u001b[0;32min\u001b[0m \u001b[0mself\u001b[0m\u001b[0;34m:\u001b[0m\u001b[0;34m\u001b[0m\u001b[0;34m\u001b[0m\u001b[0m\n\u001b[0;32m--> 204\u001b[0;31m             \u001b[0minput\u001b[0m \u001b[0;34m=\u001b[0m \u001b[0mmodule\u001b[0m\u001b[0;34m(\u001b[0m\u001b[0minput\u001b[0m\u001b[0;34m)\u001b[0m\u001b[0;34m\u001b[0m\u001b[0;34m\u001b[0m\u001b[0m\n\u001b[0m\u001b[1;32m    205\u001b[0m         \u001b[0;32mreturn\u001b[0m \u001b[0minput\u001b[0m\u001b[0;34m\u001b[0m\u001b[0;34m\u001b[0m\u001b[0m\n\u001b[1;32m    206\u001b[0m \u001b[0;34m\u001b[0m\u001b[0m\n",
            "\u001b[0;32m/usr/local/lib/python3.8/dist-packages/torch/nn/modules/module.py\u001b[0m in \u001b[0;36m_call_impl\u001b[0;34m(self, *input, **kwargs)\u001b[0m\n\u001b[1;32m   1192\u001b[0m         if not (self._backward_hooks or self._forward_hooks or self._forward_pre_hooks or _global_backward_hooks\n\u001b[1;32m   1193\u001b[0m                 or _global_forward_hooks or _global_forward_pre_hooks):\n\u001b[0;32m-> 1194\u001b[0;31m             \u001b[0;32mreturn\u001b[0m \u001b[0mforward_call\u001b[0m\u001b[0;34m(\u001b[0m\u001b[0;34m*\u001b[0m\u001b[0minput\u001b[0m\u001b[0;34m,\u001b[0m \u001b[0;34m**\u001b[0m\u001b[0mkwargs\u001b[0m\u001b[0;34m)\u001b[0m\u001b[0;34m\u001b[0m\u001b[0;34m\u001b[0m\u001b[0m\n\u001b[0m\u001b[1;32m   1195\u001b[0m         \u001b[0;31m# Do not call functions when jit is used\u001b[0m\u001b[0;34m\u001b[0m\u001b[0;34m\u001b[0m\u001b[0;34m\u001b[0m\u001b[0m\n\u001b[1;32m   1196\u001b[0m         \u001b[0mfull_backward_hooks\u001b[0m\u001b[0;34m,\u001b[0m \u001b[0mnon_full_backward_hooks\u001b[0m \u001b[0;34m=\u001b[0m \u001b[0;34m[\u001b[0m\u001b[0;34m]\u001b[0m\u001b[0;34m,\u001b[0m \u001b[0;34m[\u001b[0m\u001b[0;34m]\u001b[0m\u001b[0;34m\u001b[0m\u001b[0;34m\u001b[0m\u001b[0m\n",
            "\u001b[0;32m/usr/local/lib/python3.8/dist-packages/torch/nn/modules/conv.py\u001b[0m in \u001b[0;36mforward\u001b[0;34m(self, input)\u001b[0m\n\u001b[1;32m    311\u001b[0m \u001b[0;34m\u001b[0m\u001b[0m\n\u001b[1;32m    312\u001b[0m     \u001b[0;32mdef\u001b[0m \u001b[0mforward\u001b[0m\u001b[0;34m(\u001b[0m\u001b[0mself\u001b[0m\u001b[0;34m,\u001b[0m \u001b[0minput\u001b[0m\u001b[0;34m:\u001b[0m \u001b[0mTensor\u001b[0m\u001b[0;34m)\u001b[0m \u001b[0;34m->\u001b[0m \u001b[0mTensor\u001b[0m\u001b[0;34m:\u001b[0m\u001b[0;34m\u001b[0m\u001b[0;34m\u001b[0m\u001b[0m\n\u001b[0;32m--> 313\u001b[0;31m         \u001b[0;32mreturn\u001b[0m \u001b[0mself\u001b[0m\u001b[0;34m.\u001b[0m\u001b[0m_conv_forward\u001b[0m\u001b[0;34m(\u001b[0m\u001b[0minput\u001b[0m\u001b[0;34m,\u001b[0m \u001b[0mself\u001b[0m\u001b[0;34m.\u001b[0m\u001b[0mweight\u001b[0m\u001b[0;34m,\u001b[0m \u001b[0mself\u001b[0m\u001b[0;34m.\u001b[0m\u001b[0mbias\u001b[0m\u001b[0;34m)\u001b[0m\u001b[0;34m\u001b[0m\u001b[0;34m\u001b[0m\u001b[0m\n\u001b[0m\u001b[1;32m    314\u001b[0m \u001b[0;34m\u001b[0m\u001b[0m\n\u001b[1;32m    315\u001b[0m \u001b[0;34m\u001b[0m\u001b[0m\n",
            "\u001b[0;32m/usr/local/lib/python3.8/dist-packages/torch/nn/modules/conv.py\u001b[0m in \u001b[0;36m_conv_forward\u001b[0;34m(self, input, weight, bias)\u001b[0m\n\u001b[1;32m    307\u001b[0m                             \u001b[0mweight\u001b[0m\u001b[0;34m,\u001b[0m \u001b[0mbias\u001b[0m\u001b[0;34m,\u001b[0m \u001b[0mself\u001b[0m\u001b[0;34m.\u001b[0m\u001b[0mstride\u001b[0m\u001b[0;34m,\u001b[0m\u001b[0;34m\u001b[0m\u001b[0;34m\u001b[0m\u001b[0m\n\u001b[1;32m    308\u001b[0m                             _single(0), self.dilation, self.groups)\n\u001b[0;32m--> 309\u001b[0;31m         return F.conv1d(input, weight, bias, self.stride,\n\u001b[0m\u001b[1;32m    310\u001b[0m                         self.padding, self.dilation, self.groups)\n\u001b[1;32m    311\u001b[0m \u001b[0;34m\u001b[0m\u001b[0m\n",
            "\u001b[0;31mRuntimeError\u001b[0m: cuDNN error: CUDNN_STATUS_MAPPING_ERROR"
          ]
        }
      ]
    },
    {
      "cell_type": "markdown",
      "source": [
        "## Our Model: 3-Class classification (Softmax)\n",
        "### Our Results: \\[\"Normal\", \"Prehypertension\", \"hypertension\"]"
      ],
      "metadata": {
        "id": "HTXtwIrl5F3R"
      },
      "id": "HTXtwIrl5F3R"
    },
    {
      "cell_type": "code",
      "source": [
        "class Conv3Net(nn.Module):\n",
        "    def __init__(self, n_class=3):\n",
        "        super(Conv3Net, self).__init__()\n",
        "        self.n_class = n_class\n",
        "        self.feature_extractor = nn.Sequential(\n",
        "            nn.Conv1d(1, 64, kernel_size=30, stride=3, padding=2),\n",
        "            nn.ReLU(),\n",
        "            nn.Conv1d(64, 64, kernel_size=15, stride=3, padding=2),\n",
        "            nn.ReLU(),\n",
        "            nn.MaxPool1d(kernel_size=7),\n",
        "            nn.Conv1d(64, 128, kernel_size=5, padding=2),\n",
        "            nn.ReLU(),\n",
        "            nn.MaxPool1d(kernel_size=7)\n",
        "        )\n",
        "        self.classifier = nn.Sequential(\n",
        "            nn.Linear(512, 64),\n",
        "            nn.ReLU(),\n",
        "            nn.Linear(64, 3)\n",
        "        )\n",
        "\n",
        "    def forward(self, x):\n",
        "        x = self.feature_extractor(x)\n",
        "        x = x.view(x.size(0), -1)\n",
        "        return self.classifier(x)"
      ],
      "metadata": {
        "id": "zcw22eY7lHuH"
      },
      "id": "zcw22eY7lHuH",
      "execution_count": null,
      "outputs": []
    },
    {
      "cell_type": "code",
      "source": [
        "data_mean=2060.61\n",
        "data_std=285.13\n",
        "data_normalization = {'mean':data_mean,'std':data_std}\n",
        "\n",
        "# setup data loader\n",
        "dataset = BPDataset(ppg_dir, label_path, normalize=data_normalization, choose_class=[0,1,2])\n",
        "print('dataset: {}'.format(dataset.__len__()))\n",
        "\n",
        "# Split training data, validation data, testing data\n",
        "# [0,1] -> [312, 78, 97]\n",
        "# [0,2] -> [255, 64, 80]\n",
        "# [0,1,2]-> [415, 104, 129]\n",
        "data_train, data_val, data_test = torch.utils.data.random_split(dataset, [415, 104, 129])\n",
        "print(data_train.__len__())\n",
        "print(data_val.__len__())\n",
        "print(data_test.__len__())"
      ],
      "metadata": {
        "colab": {
          "base_uri": "https://localhost:8080/"
        },
        "id": "xLY2TjiE5-R7",
        "outputId": "9fb2888d-00d6-4021-e84f-c4f3b9d4cdd3"
      },
      "id": "xLY2TjiE5-R7",
      "execution_count": null,
      "outputs": [
        {
          "output_type": "stream",
          "name": "stdout",
          "text": [
            "dataset: 648\n",
            "415\n",
            "104\n",
            "129\n"
          ]
        }
      ]
    },
    {
      "cell_type": "code",
      "source": [
        "dataloaders={'train': torch.utils.data.DataLoader(data_train,batch_size=10,shuffle=True),\n",
        "                'val':torch.utils.data.DataLoader(data_val,batch_size=10,shuffle=True),\n",
        "                'test':torch.utils.data.DataLoader(data_test,batch_size=10,shuffle=False)}\n",
        "dataset_sizes = {'train': data_train.__len__(),\n",
        "                    'val':data_val.__len__(),\n",
        "                    'test':data_test.__len__()}\n",
        "\n",
        "device = torch.device(\"cuda\" if torch.cuda.is_available() else \"cpu\")\n",
        "print('Device:',device)"
      ],
      "metadata": {
        "colab": {
          "base_uri": "https://localhost:8080/"
        },
        "id": "4PvZSPBw6Dp5",
        "outputId": "9017c6c9-3b5e-466d-c787-90983a92593b"
      },
      "id": "4PvZSPBw6Dp5",
      "execution_count": null,
      "outputs": [
        {
          "output_type": "stream",
          "name": "stdout",
          "text": [
            "Device: cuda\n"
          ]
        }
      ]
    },
    {
      "cell_type": "code",
      "source": [
        "temp_dataloaders={'train': torch.utils.data.DataLoader(data_train,batch_size=1,shuffle=False),\n",
        "                'val':torch.utils.data.DataLoader(data_val,batch_size=1,shuffle=False),\n",
        "                'test':torch.utils.data.DataLoader(data_test,batch_size=1,shuffle=False)}\n",
        "\n",
        "train_labels=[0,0,0]\n",
        "for data, label, subject in temp_dataloaders['train']:\n",
        "    if label.data==0:\n",
        "        train_labels[0]+=1\n",
        "    elif label.data==1:\n",
        "        train_labels[1]+=1\n",
        "    else:\n",
        "        train_labels[2]+=1\n",
        "\n",
        "plt.figure(figsize=(5,3))\n",
        "plt.bar(np.arange(3),train_labels,color=['g','b','r'],width=0.7)\n",
        "plt.xticks(np.arange(3),['Normal','Prehypertension','Hypertension'])\n",
        "plt.title('Training-set Class Distribution')\n",
        "plt.show()\n",
        "\n",
        "val_labels=[0,0,0]\n",
        "for data, label, subject in temp_dataloaders['val']:\n",
        "    if label.data==0:\n",
        "        val_labels[0]+=1\n",
        "    elif label.data==1:\n",
        "        val_labels[1]+=1\n",
        "    else:\n",
        "        val_labels[2]+=1\n",
        "\n",
        "plt.figure(figsize=(5,3))\n",
        "plt.bar(np.arange(3),val_labels,color=['g','b','r'])\n",
        "plt.xticks(np.arange(3),['Normal','Prehypertension','Hypertension'])\n",
        "plt.title('Validation-set Class Distribution')\n",
        "plt.show()\n",
        "\n",
        "test_labels=[0,0,0]\n",
        "for data, label, subject in temp_dataloaders['test']:\n",
        "    if label.data==0:\n",
        "        test_labels[0]+=1\n",
        "    elif label.data==1:\n",
        "        test_labels[1]+=1\n",
        "    else:\n",
        "        test_labels[2]+=1\n",
        "\n",
        "plt.figure(figsize=(5,3))\n",
        "plt.bar(np.arange(3),test_labels,color=['g','b','r'])\n",
        "plt.xticks(np.arange(3),['Normal','Prehypertension','Hypertension'])\n",
        "plt.title('Test-set Class Distribution')\n",
        "plt.show()\n"
      ],
      "metadata": {
        "colab": {
          "base_uri": "https://localhost:8080/",
          "height": 647
        },
        "id": "uAiwYbRB6IR4",
        "outputId": "2ab91502-78c6-4e5e-d7d6-44a260e3f7bb"
      },
      "id": "uAiwYbRB6IR4",
      "execution_count": null,
      "outputs": [
        {
          "output_type": "display_data",
          "data": {
            "text/plain": [
              "<Figure size 360x216 with 1 Axes>"
            ],
            "image/png": "[encoded data removed]"
          },
          "metadata": {
            "needs_background": "light"
          }
        },
        {
          "output_type": "display_data",
          "data": {
            "text/plain": [
              "<Figure size 360x216 with 1 Axes>"
            ],
            "image/png": "[encoded data removed]"
          },
          "metadata": {
            "needs_background": "light"
          }
        },
        {
          "output_type": "display_data",
          "data": {
            "text/plain": [
              "<Figure size 360x216 with 1 Axes>"
            ],
            "image/png": "[encoded data removed]"
          },
          "metadata": {
            "needs_background": "light"
          }
        }
      ]
    },
    {
      "cell_type": "code",
      "source": [
        "print(train_labels, val_labels, test_labels)"
      ],
      "metadata": {
        "colab": {
          "base_uri": "https://localhost:8080/"
        },
        "id": "dSf9xH5U7B0I",
        "outputId": "607bf88b-9fa7-4a65-e435-54903c2fef35"
      },
      "id": "dSf9xH5U7B0I",
      "execution_count": null,
      "outputs": [
        {
          "output_type": "stream",
          "name": "stdout",
          "text": [
            "[149, 160, 106] [39, 39, 26] [50, 50, 29]\n"
          ]
        }
      ]
    },
    {
      "cell_type": "code",
      "source": [
        "model = Conv3Net(3).cuda()\n",
        "criterion = nn.CrossEntropyLoss()\n",
        "optimizer = optim.SGD(model.parameters(), lr=0.01, momentum=0.9, weight_decay=0.0005)\n",
        "n_epoch = 180\n",
        "loss = 0\n",
        "acc = 0\n",
        "best_acc = 0\n",
        "for ep in range(n_epoch):\n",
        "    train_acc, train_loss = train(dataloaders['train'], model, optimizer, ep, criterion)\n",
        "    val_acc, val_loss = val(dataloaders['val'], model, criterion)\n",
        "    if val_acc > best_acc:\n",
        "        state = {\n",
        "            'epoch': ep + 1,\n",
        "            'acc': acc,\n",
        "            'model_state': model.state_dict(),\n",
        "        }\n",
        "        best_acc = val_acc\n",
        "    if (ep + 1) % 60 == 0:\n",
        "        lr_decay(optimizer, decay_rate=0.1)\n",
        "\n",
        "model.load_state_dict(state['model_state'])\n",
        "test_acc, test_loss = val(dataloaders['test'], model, criterion)"
      ],
      "metadata": {
        "colab": {
          "base_uri": "https://localhost:8080/"
        },
        "id": "K2w5A784l8Ua",
        "outputId": "2e6a8e90-944b-42d4-bbf5-b6a3774d0f6b"
      },
      "id": "K2w5A784l8Ua",
      "execution_count": null,
      "outputs": [
        {
          "output_type": "stream",
          "name": "stdout",
          "text": [
            "Epoch: [1/180]\tLR: [0.01]\tLoss 1.0831\tAcc 0.378\n",
            "[Val]Loss 1.0601\tAcc 0.442\n",
            "Epoch: [2/180]\tLR: [0.01]\tLoss 1.0596\tAcc 0.410\n",
            "[Val]Loss 1.0136\tAcc 0.404\n",
            "Epoch: [3/180]\tLR: [0.01]\tLoss 1.0526\tAcc 0.427\n",
            "[Val]Loss 1.0060\tAcc 0.452\n",
            "Epoch: [4/180]\tLR: [0.01]\tLoss 1.0265\tAcc 0.441\n",
            "[Val]Loss 1.0091\tAcc 0.442\n",
            "Epoch: [5/180]\tLR: [0.01]\tLoss 1.0400\tAcc 0.419\n",
            "[Val]Loss 1.0052\tAcc 0.442\n",
            "Epoch: [6/180]\tLR: [0.01]\tLoss 1.0386\tAcc 0.441\n",
            "[Val]Loss 1.0312\tAcc 0.442\n",
            "Epoch: [7/180]\tLR: [0.01]\tLoss 1.0166\tAcc 0.446\n",
            "[Val]Loss 1.0648\tAcc 0.413\n",
            "Epoch: [8/180]\tLR: [0.01]\tLoss 1.0137\tAcc 0.436\n",
            "[Val]Loss 1.0203\tAcc 0.433\n",
            "Epoch: [9/180]\tLR: [0.01]\tLoss 1.0072\tAcc 0.446\n",
            "[Val]Loss 1.0246\tAcc 0.404\n",
            "Epoch: [10/180]\tLR: [0.01]\tLoss 1.0124\tAcc 0.441\n",
            "[Val]Loss 1.0128\tAcc 0.404\n",
            "Epoch: [11/180]\tLR: [0.01]\tLoss 1.0004\tAcc 0.441\n",
            "[Val]Loss 1.0285\tAcc 0.394\n",
            "Epoch: [12/180]\tLR: [0.01]\tLoss 0.9875\tAcc 0.484\n",
            "[Val]Loss 1.0941\tAcc 0.394\n",
            "Epoch: [13/180]\tLR: [0.01]\tLoss 1.0153\tAcc 0.453\n",
            "[Val]Loss 1.0946\tAcc 0.279\n",
            "Epoch: [14/180]\tLR: [0.01]\tLoss 1.0004\tAcc 0.427\n",
            "[Val]Loss 1.0349\tAcc 0.423\n",
            "Epoch: [15/180]\tLR: [0.01]\tLoss 0.9856\tAcc 0.480\n",
            "[Val]Loss 1.0459\tAcc 0.317\n",
            "Epoch: [16/180]\tLR: [0.01]\tLoss 0.9742\tAcc 0.475\n",
            "[Val]Loss 1.0292\tAcc 0.433\n",
            "Epoch: [17/180]\tLR: [0.01]\tLoss 0.9796\tAcc 0.496\n",
            "[Val]Loss 1.0282\tAcc 0.394\n",
            "Epoch: [18/180]\tLR: [0.01]\tLoss 0.9908\tAcc 0.492\n",
            "[Val]Loss 1.0217\tAcc 0.423\n",
            "Epoch: [19/180]\tLR: [0.01]\tLoss 0.9694\tAcc 0.504\n",
            "[Val]Loss 1.0423\tAcc 0.375\n",
            "Epoch: [20/180]\tLR: [0.01]\tLoss 0.9767\tAcc 0.489\n",
            "[Val]Loss 1.0350\tAcc 0.433\n",
            "Epoch: [21/180]\tLR: [0.01]\tLoss 0.9524\tAcc 0.487\n",
            "[Val]Loss 1.0948\tAcc 0.423\n",
            "Epoch: [22/180]\tLR: [0.01]\tLoss 0.9671\tAcc 0.492\n",
            "[Val]Loss 1.0408\tAcc 0.375\n",
            "Epoch: [23/180]\tLR: [0.01]\tLoss 0.9675\tAcc 0.504\n",
            "[Val]Loss 1.0215\tAcc 0.404\n",
            "Epoch: [24/180]\tLR: [0.01]\tLoss 0.9697\tAcc 0.508\n",
            "[Val]Loss 1.0054\tAcc 0.433\n",
            "Epoch: [25/180]\tLR: [0.01]\tLoss 0.9682\tAcc 0.489\n",
            "[Val]Loss 1.0665\tAcc 0.442\n",
            "Epoch: [26/180]\tLR: [0.01]\tLoss 0.9490\tAcc 0.528\n",
            "[Val]Loss 1.0410\tAcc 0.404\n",
            "Epoch: [27/180]\tLR: [0.01]\tLoss 0.9361\tAcc 0.520\n",
            "[Val]Loss 1.0607\tAcc 0.413\n",
            "Epoch: [28/180]\tLR: [0.01]\tLoss 0.9454\tAcc 0.533\n",
            "[Val]Loss 1.0499\tAcc 0.433\n",
            "Epoch: [29/180]\tLR: [0.01]\tLoss 0.9362\tAcc 0.535\n",
            "[Val]Loss 1.0558\tAcc 0.413\n",
            "Epoch: [30/180]\tLR: [0.01]\tLoss 0.9281\tAcc 0.535\n",
            "[Val]Loss 1.0965\tAcc 0.385\n",
            "Epoch: [31/180]\tLR: [0.01]\tLoss 0.9483\tAcc 0.513\n",
            "[Val]Loss 1.0063\tAcc 0.452\n",
            "Epoch: [32/180]\tLR: [0.01]\tLoss 0.8876\tAcc 0.552\n",
            "[Val]Loss 1.0413\tAcc 0.519\n",
            "Epoch: [33/180]\tLR: [0.01]\tLoss 0.9172\tAcc 0.559\n",
            "[Val]Loss 1.0623\tAcc 0.433\n",
            "Epoch: [34/180]\tLR: [0.01]\tLoss 0.9277\tAcc 0.525\n",
            "[Val]Loss 1.1161\tAcc 0.433\n",
            "Epoch: [35/180]\tLR: [0.01]\tLoss 0.8951\tAcc 0.547\n",
            "[Val]Loss 1.1198\tAcc 0.404\n",
            "Epoch: [36/180]\tLR: [0.01]\tLoss 0.8685\tAcc 0.549\n",
            "[Val]Loss 1.0923\tAcc 0.423\n",
            "Epoch: [37/180]\tLR: [0.01]\tLoss 0.9112\tAcc 0.564\n",
            "[Val]Loss 1.1527\tAcc 0.394\n",
            "Epoch: [38/180]\tLR: [0.01]\tLoss 0.8986\tAcc 0.537\n",
            "[Val]Loss 1.0108\tAcc 0.462\n",
            "Epoch: [39/180]\tLR: [0.01]\tLoss 0.8658\tAcc 0.578\n",
            "[Val]Loss 1.1763\tAcc 0.442\n",
            "Epoch: [40/180]\tLR: [0.01]\tLoss 0.8362\tAcc 0.595\n",
            "[Val]Loss 1.0478\tAcc 0.481\n",
            "Epoch: [41/180]\tLR: [0.01]\tLoss 0.8575\tAcc 0.588\n",
            "[Val]Loss 0.9994\tAcc 0.529\n",
            "Epoch: [42/180]\tLR: [0.01]\tLoss 0.8497\tAcc 0.571\n",
            "[Val]Loss 1.0837\tAcc 0.471\n",
            "Epoch: [43/180]\tLR: [0.01]\tLoss 0.8703\tAcc 0.588\n",
            "[Val]Loss 1.0762\tAcc 0.481\n",
            "Epoch: [44/180]\tLR: [0.01]\tLoss 0.8336\tAcc 0.598\n",
            "[Val]Loss 1.1173\tAcc 0.500\n",
            "Epoch: [45/180]\tLR: [0.01]\tLoss 0.8385\tAcc 0.619\n",
            "[Val]Loss 1.0852\tAcc 0.462\n",
            "Epoch: [46/180]\tLR: [0.01]\tLoss 0.7993\tAcc 0.602\n",
            "[Val]Loss 1.1265\tAcc 0.471\n",
            "Epoch: [47/180]\tLR: [0.01]\tLoss 0.8275\tAcc 0.602\n",
            "[Val]Loss 1.0316\tAcc 0.500\n",
            "Epoch: [48/180]\tLR: [0.01]\tLoss 0.8170\tAcc 0.581\n",
            "[Val]Loss 1.0547\tAcc 0.548\n",
            "Epoch: [49/180]\tLR: [0.01]\tLoss 0.7887\tAcc 0.624\n",
            "[Val]Loss 1.2032\tAcc 0.462\n",
            "Epoch: [50/180]\tLR: [0.01]\tLoss 0.9000\tAcc 0.610\n",
            "[Val]Loss 1.0319\tAcc 0.481\n",
            "Epoch: [51/180]\tLR: [0.01]\tLoss 0.7817\tAcc 0.612\n",
            "[Val]Loss 1.0831\tAcc 0.558\n",
            "Epoch: [52/180]\tLR: [0.01]\tLoss 0.8544\tAcc 0.600\n",
            "[Val]Loss 1.1357\tAcc 0.442\n",
            "Epoch: [53/180]\tLR: [0.01]\tLoss 0.8791\tAcc 0.561\n",
            "[Val]Loss 1.1528\tAcc 0.471\n",
            "Epoch: [54/180]\tLR: [0.01]\tLoss 0.7976\tAcc 0.634\n",
            "[Val]Loss 1.2217\tAcc 0.510\n",
            "Epoch: [55/180]\tLR: [0.01]\tLoss 0.7731\tAcc 0.658\n",
            "[Val]Loss 1.5524\tAcc 0.442\n",
            "Epoch: [56/180]\tLR: [0.01]\tLoss 0.7241\tAcc 0.665\n",
            "[Val]Loss 1.3547\tAcc 0.519\n",
            "Epoch: [57/180]\tLR: [0.01]\tLoss 0.6819\tAcc 0.689\n",
            "[Val]Loss 1.3752\tAcc 0.500\n",
            "Epoch: [58/180]\tLR: [0.01]\tLoss 0.7373\tAcc 0.672\n",
            "[Val]Loss 1.4396\tAcc 0.452\n",
            "Epoch: [59/180]\tLR: [0.01]\tLoss 0.7585\tAcc 0.629\n",
            "[Val]Loss 1.5500\tAcc 0.442\n",
            "Epoch: [60/180]\tLR: [0.01]\tLoss 0.7637\tAcc 0.643\n",
            "[Val]Loss 1.4451\tAcc 0.510\n",
            "Epoch: [61/180]\tLR: [0.001]\tLoss 0.6396\tAcc 0.708\n",
            "[Val]Loss 1.3391\tAcc 0.471\n",
            "Epoch: [62/180]\tLR: [0.001]\tLoss 0.5766\tAcc 0.754\n",
            "[Val]Loss 1.3929\tAcc 0.500\n",
            "Epoch: [63/180]\tLR: [0.001]\tLoss 0.5500\tAcc 0.778\n",
            "[Val]Loss 1.4503\tAcc 0.490\n",
            "Epoch: [64/180]\tLR: [0.001]\tLoss 0.5284\tAcc 0.773\n",
            "[Val]Loss 1.4853\tAcc 0.500\n",
            "Epoch: [65/180]\tLR: [0.001]\tLoss 0.5100\tAcc 0.771\n",
            "[Val]Loss 1.5311\tAcc 0.500\n",
            "Epoch: [66/180]\tLR: [0.001]\tLoss 0.4966\tAcc 0.778\n",
            "[Val]Loss 1.5922\tAcc 0.500\n",
            "Epoch: [67/180]\tLR: [0.001]\tLoss 0.4802\tAcc 0.788\n",
            "[Val]Loss 1.6208\tAcc 0.500\n",
            "Epoch: [68/180]\tLR: [0.001]\tLoss 0.4602\tAcc 0.812\n",
            "[Val]Loss 1.6646\tAcc 0.500\n",
            "Epoch: [69/180]\tLR: [0.001]\tLoss 0.4536\tAcc 0.798\n",
            "[Val]Loss 1.6649\tAcc 0.519\n",
            "Epoch: [70/180]\tLR: [0.001]\tLoss 0.4372\tAcc 0.812\n",
            "[Val]Loss 1.7067\tAcc 0.529\n",
            "Epoch: [71/180]\tLR: [0.001]\tLoss 0.4276\tAcc 0.822\n",
            "[Val]Loss 1.7510\tAcc 0.500\n",
            "Epoch: [72/180]\tLR: [0.001]\tLoss 0.4163\tAcc 0.827\n",
            "[Val]Loss 1.8744\tAcc 0.490\n",
            "Epoch: [73/180]\tLR: [0.001]\tLoss 0.4078\tAcc 0.829\n",
            "[Val]Loss 1.8422\tAcc 0.500\n",
            "Epoch: [74/180]\tLR: [0.001]\tLoss 0.3939\tAcc 0.841\n",
            "[Val]Loss 1.9038\tAcc 0.510\n",
            "Epoch: [75/180]\tLR: [0.001]\tLoss 0.3846\tAcc 0.851\n",
            "[Val]Loss 1.9588\tAcc 0.500\n",
            "Epoch: [76/180]\tLR: [0.001]\tLoss 0.3750\tAcc 0.843\n",
            "[Val]Loss 1.9771\tAcc 0.510\n",
            "Epoch: [77/180]\tLR: [0.001]\tLoss 0.3632\tAcc 0.855\n",
            "[Val]Loss 2.0311\tAcc 0.519\n",
            "Epoch: [78/180]\tLR: [0.001]\tLoss 0.3507\tAcc 0.853\n",
            "[Val]Loss 2.1386\tAcc 0.510\n",
            "Epoch: [79/180]\tLR: [0.001]\tLoss 0.3389\tAcc 0.872\n",
            "[Val]Loss 2.1084\tAcc 0.510\n",
            "Epoch: [80/180]\tLR: [0.001]\tLoss 0.3373\tAcc 0.865\n",
            "[Val]Loss 2.1173\tAcc 0.519\n",
            "Epoch: [81/180]\tLR: [0.001]\tLoss 0.3312\tAcc 0.880\n",
            "[Val]Loss 2.1658\tAcc 0.519\n",
            "Epoch: [82/180]\tLR: [0.001]\tLoss 0.3268\tAcc 0.870\n",
            "[Val]Loss 2.3439\tAcc 0.519\n",
            "Epoch: [83/180]\tLR: [0.001]\tLoss 0.3217\tAcc 0.872\n",
            "[Val]Loss 2.2822\tAcc 0.500\n",
            "Epoch: [84/180]\tLR: [0.001]\tLoss 0.3076\tAcc 0.892\n",
            "[Val]Loss 2.3379\tAcc 0.529\n",
            "Epoch: [85/180]\tLR: [0.001]\tLoss 0.2944\tAcc 0.892\n",
            "[Val]Loss 2.3902\tAcc 0.490\n",
            "Epoch: [86/180]\tLR: [0.001]\tLoss 0.2866\tAcc 0.894\n",
            "[Val]Loss 2.4643\tAcc 0.519\n",
            "Epoch: [87/180]\tLR: [0.001]\tLoss 0.2826\tAcc 0.896\n",
            "[Val]Loss 2.4917\tAcc 0.519\n",
            "Epoch: [88/180]\tLR: [0.001]\tLoss 0.2740\tAcc 0.901\n",
            "[Val]Loss 2.5860\tAcc 0.500\n",
            "Epoch: [89/180]\tLR: [0.001]\tLoss 0.2690\tAcc 0.901\n",
            "[Val]Loss 2.6238\tAcc 0.519\n",
            "Epoch: [90/180]\tLR: [0.001]\tLoss 0.2731\tAcc 0.892\n",
            "[Val]Loss 2.6826\tAcc 0.500\n",
            "Epoch: [91/180]\tLR: [0.001]\tLoss 0.2552\tAcc 0.904\n",
            "[Val]Loss 2.7363\tAcc 0.510\n",
            "Epoch: [92/180]\tLR: [0.001]\tLoss 0.2436\tAcc 0.911\n",
            "[Val]Loss 2.7983\tAcc 0.490\n",
            "Epoch: [93/180]\tLR: [0.001]\tLoss 0.2378\tAcc 0.920\n",
            "[Val]Loss 2.8010\tAcc 0.519\n",
            "Epoch: [94/180]\tLR: [0.001]\tLoss 0.2293\tAcc 0.916\n",
            "[Val]Loss 2.9292\tAcc 0.519\n",
            "Epoch: [95/180]\tLR: [0.001]\tLoss 0.2383\tAcc 0.908\n",
            "[Val]Loss 2.9977\tAcc 0.510\n",
            "Epoch: [96/180]\tLR: [0.001]\tLoss 0.2225\tAcc 0.920\n",
            "[Val]Loss 2.9596\tAcc 0.519\n",
            "Epoch: [97/180]\tLR: [0.001]\tLoss 0.2156\tAcc 0.913\n",
            "[Val]Loss 3.1511\tAcc 0.510\n",
            "Epoch: [98/180]\tLR: [0.001]\tLoss 0.2139\tAcc 0.920\n",
            "[Val]Loss 3.1434\tAcc 0.538\n",
            "Epoch: [99/180]\tLR: [0.001]\tLoss 0.2187\tAcc 0.918\n",
            "[Val]Loss 3.2234\tAcc 0.510\n",
            "Epoch: [100/180]\tLR: [0.001]\tLoss 0.2003\tAcc 0.930\n",
            "[Val]Loss 3.3266\tAcc 0.548\n",
            "Epoch: [101/180]\tLR: [0.001]\tLoss 0.2066\tAcc 0.916\n",
            "[Val]Loss 3.2290\tAcc 0.529\n",
            "Epoch: [102/180]\tLR: [0.001]\tLoss 0.1881\tAcc 0.933\n",
            "[Val]Loss 3.3707\tAcc 0.500\n",
            "Epoch: [103/180]\tLR: [0.001]\tLoss 0.1772\tAcc 0.942\n",
            "[Val]Loss 3.3378\tAcc 0.510\n",
            "Epoch: [104/180]\tLR: [0.001]\tLoss 0.1731\tAcc 0.935\n",
            "[Val]Loss 3.5726\tAcc 0.529\n",
            "Epoch: [105/180]\tLR: [0.001]\tLoss 0.1812\tAcc 0.942\n",
            "[Val]Loss 3.5106\tAcc 0.519\n",
            "Epoch: [106/180]\tLR: [0.001]\tLoss 0.1801\tAcc 0.942\n",
            "[Val]Loss 3.4542\tAcc 0.538\n",
            "Epoch: [107/180]\tLR: [0.001]\tLoss 0.1645\tAcc 0.947\n",
            "[Val]Loss 3.6942\tAcc 0.519\n",
            "Epoch: [108/180]\tLR: [0.001]\tLoss 0.1605\tAcc 0.952\n",
            "[Val]Loss 3.6171\tAcc 0.529\n",
            "Epoch: [109/180]\tLR: [0.001]\tLoss 0.1984\tAcc 0.928\n",
            "[Val]Loss 3.5296\tAcc 0.538\n",
            "Epoch: [110/180]\tLR: [0.001]\tLoss 0.1553\tAcc 0.957\n",
            "[Val]Loss 3.8703\tAcc 0.490\n",
            "Epoch: [111/180]\tLR: [0.001]\tLoss 0.1804\tAcc 0.942\n",
            "[Val]Loss 3.6954\tAcc 0.519\n",
            "Epoch: [112/180]\tLR: [0.001]\tLoss 0.1892\tAcc 0.925\n",
            "[Val]Loss 3.7814\tAcc 0.529\n",
            "Epoch: [113/180]\tLR: [0.001]\tLoss 0.1510\tAcc 0.952\n",
            "[Val]Loss 3.9329\tAcc 0.481\n",
            "Epoch: [114/180]\tLR: [0.001]\tLoss 0.1451\tAcc 0.945\n",
            "[Val]Loss 3.9052\tAcc 0.529\n",
            "Epoch: [115/180]\tLR: [0.001]\tLoss 0.1292\tAcc 0.957\n",
            "[Val]Loss 4.0132\tAcc 0.510\n",
            "Epoch: [116/180]\tLR: [0.001]\tLoss 0.1238\tAcc 0.964\n",
            "[Val]Loss 4.0159\tAcc 0.481\n",
            "Epoch: [117/180]\tLR: [0.001]\tLoss 0.1226\tAcc 0.969\n",
            "[Val]Loss 4.2020\tAcc 0.529\n",
            "Epoch: [118/180]\tLR: [0.001]\tLoss 0.1868\tAcc 0.920\n",
            "[Val]Loss 3.9409\tAcc 0.519\n",
            "Epoch: [119/180]\tLR: [0.001]\tLoss 0.2242\tAcc 0.908\n",
            "[Val]Loss 3.9644\tAcc 0.481\n",
            "Epoch: [120/180]\tLR: [0.001]\tLoss 0.1434\tAcc 0.945\n",
            "[Val]Loss 4.0404\tAcc 0.529\n",
            "Epoch: [121/180]\tLR: [0.0001]\tLoss 0.1054\tAcc 0.973\n",
            "[Val]Loss 4.0157\tAcc 0.510\n",
            "Epoch: [122/180]\tLR: [0.0001]\tLoss 0.1020\tAcc 0.973\n",
            "[Val]Loss 4.0336\tAcc 0.510\n",
            "Epoch: [123/180]\tLR: [0.0001]\tLoss 0.1004\tAcc 0.973\n",
            "[Val]Loss 4.0607\tAcc 0.510\n",
            "Epoch: [124/180]\tLR: [0.0001]\tLoss 0.0991\tAcc 0.973\n",
            "[Val]Loss 4.0629\tAcc 0.510\n",
            "Epoch: [125/180]\tLR: [0.0001]\tLoss 0.0981\tAcc 0.973\n",
            "[Val]Loss 4.0886\tAcc 0.500\n",
            "Epoch: [126/180]\tLR: [0.0001]\tLoss 0.0969\tAcc 0.973\n",
            "[Val]Loss 4.1103\tAcc 0.500\n",
            "Epoch: [127/180]\tLR: [0.0001]\tLoss 0.0961\tAcc 0.973\n",
            "[Val]Loss 4.1400\tAcc 0.500\n",
            "Epoch: [128/180]\tLR: [0.0001]\tLoss 0.0950\tAcc 0.973\n",
            "[Val]Loss 4.1485\tAcc 0.510\n",
            "Epoch: [129/180]\tLR: [0.0001]\tLoss 0.0939\tAcc 0.973\n",
            "[Val]Loss 4.1631\tAcc 0.510\n",
            "Epoch: [130/180]\tLR: [0.0001]\tLoss 0.0931\tAcc 0.973\n",
            "[Val]Loss 4.1763\tAcc 0.500\n",
            "Epoch: [131/180]\tLR: [0.0001]\tLoss 0.0924\tAcc 0.973\n",
            "[Val]Loss 4.1859\tAcc 0.510\n",
            "Epoch: [132/180]\tLR: [0.0001]\tLoss 0.0921\tAcc 0.973\n",
            "[Val]Loss 4.2050\tAcc 0.510\n",
            "Epoch: [133/180]\tLR: [0.0001]\tLoss 0.0909\tAcc 0.973\n",
            "[Val]Loss 4.2167\tAcc 0.510\n",
            "Epoch: [134/180]\tLR: [0.0001]\tLoss 0.0903\tAcc 0.973\n",
            "[Val]Loss 4.2231\tAcc 0.510\n",
            "Epoch: [135/180]\tLR: [0.0001]\tLoss 0.0895\tAcc 0.973\n",
            "[Val]Loss 4.2450\tAcc 0.510\n",
            "Epoch: [136/180]\tLR: [0.0001]\tLoss 0.0887\tAcc 0.973\n",
            "[Val]Loss 4.2407\tAcc 0.510\n",
            "Epoch: [137/180]\tLR: [0.0001]\tLoss 0.0882\tAcc 0.973\n",
            "[Val]Loss 4.2634\tAcc 0.510\n",
            "Epoch: [138/180]\tLR: [0.0001]\tLoss 0.0878\tAcc 0.973\n",
            "[Val]Loss 4.2677\tAcc 0.510\n",
            "Epoch: [139/180]\tLR: [0.0001]\tLoss 0.0868\tAcc 0.973\n",
            "[Val]Loss 4.2793\tAcc 0.510\n",
            "Epoch: [140/180]\tLR: [0.0001]\tLoss 0.0863\tAcc 0.973\n",
            "[Val]Loss 4.2941\tAcc 0.510\n",
            "Epoch: [141/180]\tLR: [0.0001]\tLoss 0.0862\tAcc 0.976\n",
            "[Val]Loss 4.3157\tAcc 0.510\n",
            "Epoch: [142/180]\tLR: [0.0001]\tLoss 0.0857\tAcc 0.976\n",
            "[Val]Loss 4.3096\tAcc 0.510\n",
            "Epoch: [143/180]\tLR: [0.0001]\tLoss 0.0849\tAcc 0.976\n",
            "[Val]Loss 4.3270\tAcc 0.510\n",
            "Epoch: [144/180]\tLR: [0.0001]\tLoss 0.0840\tAcc 0.976\n",
            "[Val]Loss 4.3305\tAcc 0.510\n",
            "Epoch: [145/180]\tLR: [0.0001]\tLoss 0.0839\tAcc 0.978\n",
            "[Val]Loss 4.3562\tAcc 0.510\n",
            "Epoch: [146/180]\tLR: [0.0001]\tLoss 0.0833\tAcc 0.978\n",
            "[Val]Loss 4.3589\tAcc 0.510\n",
            "Epoch: [147/180]\tLR: [0.0001]\tLoss 0.0827\tAcc 0.978\n",
            "[Val]Loss 4.3673\tAcc 0.510\n",
            "Epoch: [148/180]\tLR: [0.0001]\tLoss 0.0820\tAcc 0.978\n",
            "[Val]Loss 4.3891\tAcc 0.510\n",
            "Epoch: [149/180]\tLR: [0.0001]\tLoss 0.0820\tAcc 0.978\n",
            "[Val]Loss 4.3960\tAcc 0.510\n",
            "Epoch: [150/180]\tLR: [0.0001]\tLoss 0.0809\tAcc 0.978\n",
            "[Val]Loss 4.4011\tAcc 0.510\n",
            "Epoch: [151/180]\tLR: [0.0001]\tLoss 0.0804\tAcc 0.978\n",
            "[Val]Loss 4.4123\tAcc 0.510\n",
            "Epoch: [152/180]\tLR: [0.0001]\tLoss 0.0800\tAcc 0.978\n",
            "[Val]Loss 4.4166\tAcc 0.510\n",
            "Epoch: [153/180]\tLR: [0.0001]\tLoss 0.0792\tAcc 0.978\n",
            "[Val]Loss 4.4331\tAcc 0.510\n",
            "Epoch: [154/180]\tLR: [0.0001]\tLoss 0.0786\tAcc 0.981\n",
            "[Val]Loss 4.4396\tAcc 0.510\n",
            "Epoch: [155/180]\tLR: [0.0001]\tLoss 0.0782\tAcc 0.981\n",
            "[Val]Loss 4.4575\tAcc 0.510\n",
            "Epoch: [156/180]\tLR: [0.0001]\tLoss 0.0775\tAcc 0.981\n",
            "[Val]Loss 4.4667\tAcc 0.510\n",
            "Epoch: [157/180]\tLR: [0.0001]\tLoss 0.0770\tAcc 0.981\n",
            "[Val]Loss 4.4798\tAcc 0.510\n",
            "Epoch: [158/180]\tLR: [0.0001]\tLoss 0.0766\tAcc 0.981\n",
            "[Val]Loss 4.4805\tAcc 0.510\n",
            "Epoch: [159/180]\tLR: [0.0001]\tLoss 0.0766\tAcc 0.981\n",
            "[Val]Loss 4.5009\tAcc 0.510\n",
            "Epoch: [160/180]\tLR: [0.0001]\tLoss 0.0757\tAcc 0.981\n",
            "[Val]Loss 4.5062\tAcc 0.510\n",
            "Epoch: [161/180]\tLR: [0.0001]\tLoss 0.0755\tAcc 0.983\n",
            "[Val]Loss 4.5163\tAcc 0.510\n",
            "Epoch: [162/180]\tLR: [0.0001]\tLoss 0.0750\tAcc 0.981\n",
            "[Val]Loss 4.5315\tAcc 0.510\n",
            "Epoch: [163/180]\tLR: [0.0001]\tLoss 0.0745\tAcc 0.981\n",
            "[Val]Loss 4.5341\tAcc 0.510\n",
            "Epoch: [164/180]\tLR: [0.0001]\tLoss 0.0739\tAcc 0.986\n",
            "[Val]Loss 4.5468\tAcc 0.510\n",
            "Epoch: [165/180]\tLR: [0.0001]\tLoss 0.0736\tAcc 0.981\n",
            "[Val]Loss 4.5499\tAcc 0.510\n",
            "Epoch: [166/180]\tLR: [0.0001]\tLoss 0.0734\tAcc 0.983\n",
            "[Val]Loss 4.5686\tAcc 0.510\n",
            "Epoch: [167/180]\tLR: [0.0001]\tLoss 0.0730\tAcc 0.981\n",
            "[Val]Loss 4.5712\tAcc 0.510\n",
            "Epoch: [168/180]\tLR: [0.0001]\tLoss 0.0725\tAcc 0.986\n",
            "[Val]Loss 4.5851\tAcc 0.510\n",
            "Epoch: [169/180]\tLR: [0.0001]\tLoss 0.0722\tAcc 0.983\n",
            "[Val]Loss 4.5914\tAcc 0.510\n",
            "Epoch: [170/180]\tLR: [0.0001]\tLoss 0.0718\tAcc 0.983\n",
            "[Val]Loss 4.6130\tAcc 0.510\n",
            "Epoch: [171/180]\tLR: [0.0001]\tLoss 0.0717\tAcc 0.988\n",
            "[Val]Loss 4.6143\tAcc 0.510\n",
            "Epoch: [172/180]\tLR: [0.0001]\tLoss 0.0711\tAcc 0.986\n",
            "[Val]Loss 4.6290\tAcc 0.510\n",
            "Epoch: [173/180]\tLR: [0.0001]\tLoss 0.0707\tAcc 0.986\n",
            "[Val]Loss 4.6345\tAcc 0.510\n",
            "Epoch: [174/180]\tLR: [0.0001]\tLoss 0.0700\tAcc 0.986\n",
            "[Val]Loss 4.6548\tAcc 0.510\n",
            "Epoch: [175/180]\tLR: [0.0001]\tLoss 0.0696\tAcc 0.988\n",
            "[Val]Loss 4.6569\tAcc 0.510\n",
            "Epoch: [176/180]\tLR: [0.0001]\tLoss 0.0695\tAcc 0.986\n",
            "[Val]Loss 4.6679\tAcc 0.510\n",
            "Epoch: [177/180]\tLR: [0.0001]\tLoss 0.0688\tAcc 0.988\n",
            "[Val]Loss 4.6685\tAcc 0.510\n",
            "Epoch: [178/180]\tLR: [0.0001]\tLoss 0.0689\tAcc 0.983\n",
            "[Val]Loss 4.6862\tAcc 0.510\n",
            "Epoch: [179/180]\tLR: [0.0001]\tLoss 0.0682\tAcc 0.988\n",
            "[Val]Loss 4.6856\tAcc 0.510\n",
            "Epoch: [180/180]\tLR: [0.0001]\tLoss 0.0678\tAcc 0.986\n",
            "[Val]Loss 4.6916\tAcc 0.510\n",
            "[Val]Loss 4.0447\tAcc 0.442\n"
          ]
        }
      ]
    }
  ],
  "metadata": {
    "colab": {
      "provenance": []
    },
    "kernelspec": {
      "display_name": "Python 3 (ipykernel)",
      "language": "python",
      "name": "python3"
    },
    "language_info": {
      "codemirror_mode": {
        "name": "ipython",
        "version": 3
      },
      "file_extension": ".py",
      "mimetype": "text/x-python",
      "name": "python",
      "nbconvert_exporter": "python",
      "pygments_lexer": "ipython3",
      "version": "3.7.16"
    },
    "accelerator": "GPU",
    "gpuClass": "standard"
  },
  "nbformat": 4,
  "nbformat_minor": 5
}